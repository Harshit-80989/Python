{
  "nbformat": 4,
  "nbformat_minor": 0,
  "metadata": {
    "colab": {
      "provenance": []
    },
    "kernelspec": {
      "name": "python3",
      "display_name": "Python 3"
    },
    "language_info": {
      "name": "python"
    }
  },
  "cells": [
    {
      "cell_type": "markdown",
      "source": [
        "#OPERATORS"
      ],
      "metadata": {
        "id": "p_drjCAEsl3U"
      }
    },
    {
      "cell_type": "code",
      "source": [
        "#ARITHMETIC\n",
        "print(5/6)\n",
        "print(5//6)\n",
        "print(5%6)\n",
        "print(5**2)"
      ],
      "metadata": {
        "colab": {
          "base_uri": "https://localhost:8080/"
        },
        "id": "JD7-OIO_svI8",
        "outputId": "f35f63a8-ca89-4244-c413-de825f9acad5"
      },
      "execution_count": null,
      "outputs": [
        {
          "output_type": "stream",
          "name": "stdout",
          "text": [
            "0.8333333333333334\n",
            "0\n",
            "5\n",
            "25\n"
          ]
        }
      ]
    },
    {
      "cell_type": "code",
      "source": [
        "#LOGICAL\n",
        "print(10 and 14)\n",
        "print(14 or 11)\n",
        "print(not 10)\n",
        "# 1 and 90 gives 90"
      ],
      "metadata": {
        "colab": {
          "base_uri": "https://localhost:8080/"
        },
        "id": "6O-9WHqYua-e",
        "outputId": "cfe76ed5-77e6-46b5-c588-8f1de06ca085"
      },
      "execution_count": null,
      "outputs": [
        {
          "output_type": "stream",
          "name": "stdout",
          "text": [
            "14\n",
            "14\n",
            "False\n"
          ]
        }
      ]
    },
    {
      "cell_type": "code",
      "source": [
        "#MEMEBERSHIP\n",
        "#in or not in\n",
        "print('D' not in 'Delhi')\n",
        "print('D' in 'Delhi')"
      ],
      "metadata": {
        "colab": {
          "base_uri": "https://localhost:8080/"
        },
        "id": "iEsdD5Ta0nWI",
        "outputId": "3bee34eb-4f29-4b80-9108-3721b923edbf"
      },
      "execution_count": null,
      "outputs": [
        {
          "output_type": "stream",
          "name": "stdout",
          "text": [
            "False\n",
            "True\n"
          ]
        }
      ]
    },
    {
      "cell_type": "code",
      "source": [
        "#PROGRAM\n",
        "num=int(input('num'))\n",
        "a=num%10\n",
        "b=(num//10)%10\n",
        "c=num//100\n",
        "print(a,b,c)\n",
        "print(a+b+c)"
      ],
      "metadata": {
        "colab": {
          "base_uri": "https://localhost:8080/"
        },
        "id": "bOJOLfp53v7d",
        "outputId": "6edbc673-c67d-4d9f-f641-8d5337771a1d"
      },
      "execution_count": null,
      "outputs": [
        {
          "output_type": "stream",
          "name": "stdout",
          "text": [
            "num651\n",
            "1 5 6\n",
            "12\n"
          ]
        }
      ]
    },
    {
      "cell_type": "markdown",
      "source": [
        "## if else"
      ],
      "metadata": {
        "id": "0sOX4zjO8Qi4"
      }
    },
    {
      "cell_type": "code",
      "source": [
        "if 2>3 :\n",
        " print('false')\n",
        "else:\n",
        " print ('teur')"
      ],
      "metadata": {
        "colab": {
          "base_uri": "https://localhost:8080/"
        },
        "id": "Y--r6Pb08XNv",
        "outputId": "f15439b0-d79c-45af-8777-cd5efcc9e332"
      },
      "execution_count": null,
      "outputs": [
        {
          "output_type": "stream",
          "name": "stdout",
          "text": [
            "teur\n"
          ]
        }
      ]
    },
    {
      "cell_type": "code",
      "source": [
        "#min of 3 numbers\n",
        "a=int(input('a'))\n",
        "b=int(input('b'))\n",
        "c=int(input('c'))\n",
        "if a<b and a<c:\n",
        "  print(a,'is min')\n",
        "elif b<c and b<a:\n",
        "  print(b,'is min')\n",
        "else :\n",
        "  print(c,'is min')"
      ],
      "metadata": {
        "colab": {
          "base_uri": "https://localhost:8080/"
        },
        "id": "NNxqx0hy-lkT",
        "outputId": "569d8fe6-1672-48aa-f69e-39b5f3024f60"
      },
      "execution_count": null,
      "outputs": [
        {
          "output_type": "stream",
          "name": "stdout",
          "text": [
            "a1\n",
            "b2\n",
            "c3\n",
            "1 is min\n"
          ]
        }
      ]
    },
    {
      "cell_type": "markdown",
      "source": [
        "#module\n"
      ],
      "metadata": {
        "id": "BrV7VyRoCr6q"
      }
    },
    {
      "cell_type": "code",
      "source": [
        "#math\n",
        "import math\n",
        "math.sqrt(196)"
      ],
      "metadata": {
        "colab": {
          "base_uri": "https://localhost:8080/"
        },
        "id": "Mo2OqcC-CzAg",
        "outputId": "28090eb8-adcf-4ea7-896e-8c06a732c1eb"
      },
      "execution_count": null,
      "outputs": [
        {
          "output_type": "execute_result",
          "data": {
            "text/plain": [
              "14.0"
            ]
          },
          "metadata": {},
          "execution_count": 28
        }
      ]
    },
    {
      "cell_type": "code",
      "source": [
        "import keyword\n",
        "\n",
        "print(keyword.kwlist)"
      ],
      "metadata": {
        "colab": {
          "base_uri": "https://localhost:8080/"
        },
        "id": "tB1-C7IgDprR",
        "outputId": "edc8d1da-4f8d-4e98-d448-24859283a18e"
      },
      "execution_count": null,
      "outputs": [
        {
          "output_type": "stream",
          "name": "stdout",
          "text": [
            "['False', 'None', 'True', 'and', 'as', 'assert', 'async', 'await', 'break', 'class', 'continue', 'def', 'del', 'elif', 'else', 'except', 'finally', 'for', 'from', 'global', 'if', 'import', 'in', 'is', 'lambda', 'nonlocal', 'not', 'or', 'pass', 'raise', 'return', 'try', 'while', 'with', 'yield']\n"
          ]
        }
      ]
    },
    {
      "cell_type": "code",
      "source": [
        "import random\n",
        "print(random.randint(1,3))"
      ],
      "metadata": {
        "colab": {
          "base_uri": "https://localhost:8080/"
        },
        "id": "6_u_KnaIEqzX",
        "outputId": "f5afff07-9df7-44fd-a056-abd675764818"
      },
      "execution_count": null,
      "outputs": [
        {
          "output_type": "stream",
          "name": "stdout",
          "text": [
            "2\n"
          ]
        }
      ]
    },
    {
      "cell_type": "code",
      "source": [
        "import datetime\n",
        "print(datetime.datetime.now())"
      ],
      "metadata": {
        "colab": {
          "base_uri": "https://localhost:8080/"
        },
        "id": "1zU3orPvFav5",
        "outputId": "42439273-7218-4ffa-b1de-819f0a7b5a5d"
      },
      "execution_count": null,
      "outputs": [
        {
          "output_type": "stream",
          "name": "stdout",
          "text": [
            "2025-06-21 10:43:44.174633\n"
          ]
        }
      ]
    },
    {
      "cell_type": "code",
      "source": [
        "##help('modules')\n",
        "##used to get all modules in python"
      ],
      "metadata": {
        "id": "QQrrMinRGKjJ"
      },
      "execution_count": null,
      "outputs": []
    },
    {
      "cell_type": "markdown",
      "source": [
        "#Guessing Game"
      ],
      "metadata": {
        "id": "59Ex4DEwUG9J"
      }
    },
    {
      "cell_type": "code",
      "source": [
        "import random\n",
        "jack=random.randint(1,10)\n",
        "num=int(input('enter your num'))\n",
        "count=1\n",
        "while num!=jack:\n",
        "  print('Try another')\n",
        "  if(num>jack):\n",
        "    print('Try lower number')\n",
        "  elif(num<jack):\n",
        "    print('Try higher number')\n",
        "  num=int(input('enter your num'))\n",
        "  count+=1\n",
        "print('Congrats you won the lottery')\n",
        "print('Jackpot number is',jack)\n",
        "print('number of attempts is',count)"
      ],
      "metadata": {
        "colab": {
          "base_uri": "https://localhost:8080/"
        },
        "id": "9WQTWeorUM1n",
        "outputId": "0b2df4e8-c37f-4656-f17e-5c1217b85498"
      },
      "execution_count": null,
      "outputs": [
        {
          "output_type": "stream",
          "name": "stdout",
          "text": [
            "enter your num2\n",
            "Try another\n",
            "Try higher number\n",
            "enter your num6\n",
            "Try another\n",
            "Try higher number\n",
            "enter your num9\n",
            "Congrats you won the lottery\n",
            "Jackpot number is 9\n",
            "number of attempts is 3\n"
          ]
        }
      ]
    },
    {
      "cell_type": "markdown",
      "source": [
        "# for loop"
      ],
      "metadata": {
        "id": "k98eNDtlZUjq"
      }
    },
    {
      "cell_type": "code",
      "source": [
        "for i in range (1,10):\n",
        "  print(i)"
      ],
      "metadata": {
        "colab": {
          "base_uri": "https://localhost:8080/"
        },
        "id": "rsObrLN0ZYlp",
        "outputId": "8bf6368f-a507-4dc6-8d80-362a1109cda8"
      },
      "execution_count": null,
      "outputs": [
        {
          "output_type": "stream",
          "name": "stdout",
          "text": [
            "1\n",
            "2\n",
            "3\n",
            "4\n",
            "5\n",
            "6\n",
            "7\n",
            "8\n",
            "9\n"
          ]
        }
      ]
    },
    {
      "cell_type": "code",
      "source": [
        "for i in range (1,10,2):\n",
        "  print(i)"
      ],
      "metadata": {
        "colab": {
          "base_uri": "https://localhost:8080/"
        },
        "id": "vj9FlOL9Zjnp",
        "outputId": "e7585cb2-7ab3-46a5-8249-915a4245f12a"
      },
      "execution_count": null,
      "outputs": [
        {
          "output_type": "stream",
          "name": "stdout",
          "text": [
            "1\n",
            "3\n",
            "5\n",
            "7\n",
            "9\n"
          ]
        }
      ]
    },
    {
      "cell_type": "code",
      "source": [
        "for i in range (10,0,-2):\n",
        "  print(i)\n",
        "  #decresingh"
      ],
      "metadata": {
        "colab": {
          "base_uri": "https://localhost:8080/"
        },
        "id": "b3hHJrS0ZoRy",
        "outputId": "2e507920-ff66-4ebc-8fbe-4a6618c01dd3"
      },
      "execution_count": null,
      "outputs": [
        {
          "output_type": "stream",
          "name": "stdout",
          "text": [
            "10\n",
            "8\n",
            "6\n",
            "4\n",
            "2\n"
          ]
        }
      ]
    },
    {
      "cell_type": "code",
      "source": [
        "for i in 'DElhi':\n",
        "  print(i)"
      ],
      "metadata": {
        "colab": {
          "base_uri": "https://localhost:8080/"
        },
        "id": "Wyq0WO3paI88",
        "outputId": "e471aa5a-5255-4065-d4b0-40ae45d82f62"
      },
      "execution_count": null,
      "outputs": [
        {
          "output_type": "stream",
          "name": "stdout",
          "text": [
            "D\n",
            "E\n",
            "l\n",
            "h\n",
            "i\n"
          ]
        }
      ]
    },
    {
      "cell_type": "code",
      "source": [
        "for i in [1,2,3,4]:\n",
        "  print(i)"
      ],
      "metadata": {
        "colab": {
          "base_uri": "https://localhost:8080/"
        },
        "id": "1QdYjsV4aPn5",
        "outputId": "7fd05ad2-5a65-45d3-851d-bdde7fdb616e"
      },
      "execution_count": null,
      "outputs": [
        {
          "output_type": "stream",
          "name": "stdout",
          "text": [
            "1\n",
            "2\n",
            "3\n",
            "4\n"
          ]
        }
      ]
    },
    {
      "cell_type": "code",
      "source": [
        "#ques\n",
        "curr= 10000\n",
        "for i in range(10,0,-1):\n",
        "  print (i,int(curr))\n",
        "\n",
        "  curr= 0.9*curr\n",
        "\n",
        "  ##current pop is 10000 and decreases by 10 percent print past 10 years population"
      ],
      "metadata": {
        "colab": {
          "base_uri": "https://localhost:8080/"
        },
        "id": "t3lGdA4ubXyp",
        "outputId": "bdf3743d-c23a-4233-9eee-2b5d1f6a36ac"
      },
      "execution_count": null,
      "outputs": [
        {
          "output_type": "stream",
          "name": "stdout",
          "text": [
            "10 10000\n",
            "9 9000\n",
            "8 8100\n",
            "7 7290\n",
            "6 6561\n",
            "5 5904\n",
            "4 5314\n",
            "3 4782\n",
            "2 4304\n",
            "1 3874\n"
          ]
        }
      ]
    }
  ]
}