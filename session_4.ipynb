{
  "nbformat": 4,
  "nbformat_minor": 0,
  "metadata": {
    "colab": {
      "provenance": []
    },
    "kernelspec": {
      "name": "python3",
      "display_name": "Python 3"
    },
    "language_info": {
      "name": "python"
    }
  },
  "cells": [
    {
      "cell_type": "code",
      "execution_count": null,
      "metadata": {
        "colab": {
          "base_uri": "https://localhost:8080/"
        },
        "id": "8T_nVUm_rW5u",
        "outputId": "a0527c54-f1fb-45aa-c2d2-7f46e27a68ab"
      },
      "outputs": [
        {
          "output_type": "stream",
          "name": "stdout",
          "text": [
            "10757736\n",
            "10757736\n"
          ]
        }
      ],
      "source": [
        "L=[1,2,3]\n",
        "print(id(1))\n",
        "print(id(L[0]))\n",
        "#print address of item"
      ]
    },
    {
      "cell_type": "markdown",
      "source": [
        "# #creating a list"
      ],
      "metadata": {
        "id": "89CUJQq5sgg2"
      }
    },
    {
      "cell_type": "code",
      "source": [
        "#empty list\n",
        "print([])"
      ],
      "metadata": {
        "colab": {
          "base_uri": "https://localhost:8080/"
        },
        "id": "eX6lU8-pstKb",
        "outputId": "b854afd5-67c9-44c0-d9ab-8834883b71f9"
      },
      "execution_count": null,
      "outputs": [
        {
          "output_type": "stream",
          "name": "stdout",
          "text": [
            "[]\n"
          ]
        }
      ]
    },
    {
      "cell_type": "code",
      "source": [
        "print([1,2,3,4])\n",
        "#1D and Homogeneous list as all items are of same data type"
      ],
      "metadata": {
        "colab": {
          "base_uri": "https://localhost:8080/"
        },
        "id": "KALy88IotBFs",
        "outputId": "628435f4-7991-47da-fc65-afbd4bf6fcd3"
      },
      "execution_count": null,
      "outputs": [
        {
          "output_type": "stream",
          "name": "stdout",
          "text": [
            "[1, 2, 3, 4]\n"
          ]
        }
      ]
    },
    {
      "cell_type": "code",
      "source": [
        "#2D List\n",
        "print([1,2,3,4,[5,6]])\n",
        "#heterogeneous list as list and int presenet"
      ],
      "metadata": {
        "colab": {
          "base_uri": "https://localhost:8080/"
        },
        "id": "a0y_OkT9tTfF",
        "outputId": "10226a8e-5d0a-4105-ef31-d78de01ff3fe"
      },
      "execution_count": null,
      "outputs": [
        {
          "output_type": "stream",
          "name": "stdout",
          "text": [
            "[1, 2, 3, 4, [5, 6]]\n"
          ]
        }
      ]
    },
    {
      "cell_type": "code",
      "source": [
        "print([[[1,2],[3,4]],[5]])\n",
        "#3D list"
      ],
      "metadata": {
        "colab": {
          "base_uri": "https://localhost:8080/"
        },
        "id": "Fai38ozyuc_Z",
        "outputId": "6dd0d8cc-1965-49da-e3d2-7d4cc7b649e5"
      },
      "execution_count": null,
      "outputs": [
        {
          "output_type": "stream",
          "name": "stdout",
          "text": [
            "[[[1, 2], [3, 4]], [5]]\n"
          ]
        }
      ]
    },
    {
      "cell_type": "code",
      "source": [
        "#using type conversiuon\n",
        "print( list('hello'))"
      ],
      "metadata": {
        "colab": {
          "base_uri": "https://localhost:8080/"
        },
        "id": "HolUpc43vUfX",
        "outputId": "8a0aec1d-031b-44a8-8c5f-c7d90182927c"
      },
      "execution_count": null,
      "outputs": [
        {
          "output_type": "stream",
          "name": "stdout",
          "text": [
            "['h', 'e', 'l', 'l', 'o']\n"
          ]
        }
      ]
    },
    {
      "cell_type": "markdown",
      "source": [
        "## acess item"
      ],
      "metadata": {
        "id": "yFAeSSQa1a18"
      }
    },
    {
      "cell_type": "code",
      "source": [
        "L=[1,2]\n",
        "print(L[1])\n",
        "print(L[-1])\n"
      ],
      "metadata": {
        "colab": {
          "base_uri": "https://localhost:8080/"
        },
        "id": "grsS-YY2vUcp",
        "outputId": "60a6021f-fe3f-4863-e1f4-0c555e4f9179"
      },
      "execution_count": null,
      "outputs": [
        {
          "output_type": "stream",
          "name": "stdout",
          "text": [
            "2\n",
            "2\n"
          ]
        }
      ]
    },
    {
      "cell_type": "code",
      "source": [
        "L=[1,3,[4,5]]\n",
        "print(L[-1])\n",
        "print(L[-1][0])\n",
        "print(L[-1][1])\n",
        "print(L[-1][-1])\n"
      ],
      "metadata": {
        "colab": {
          "base_uri": "https://localhost:8080/"
        },
        "id": "CMxDt6dn1lzX",
        "outputId": "cd8ff5e4-31a9-4b06-a614-b9017c7c9364"
      },
      "execution_count": null,
      "outputs": [
        {
          "output_type": "stream",
          "name": "stdout",
          "text": [
            "[4, 5]\n",
            "4\n",
            "5\n",
            "5\n"
          ]
        }
      ]
    },
    {
      "cell_type": "code",
      "source": [
        "L=[[[1,2],[3,4]],[5]]\n",
        "print(L[0][1][1])"
      ],
      "metadata": {
        "colab": {
          "base_uri": "https://localhost:8080/"
        },
        "id": "Wgryf4wV21qd",
        "outputId": "18c9a8c7-48f4-4a64-ed8b-c44de3235866"
      },
      "execution_count": null,
      "outputs": [
        {
          "output_type": "stream",
          "name": "stdout",
          "text": [
            "4\n"
          ]
        }
      ]
    },
    {
      "cell_type": "code",
      "source": [
        "#SLICING\n",
        "L=[1,2,3,4]\n",
        "print(L[1:])"
      ],
      "metadata": {
        "colab": {
          "base_uri": "https://localhost:8080/"
        },
        "id": "bvBl3wAq3u7l",
        "outputId": "8e5aecf8-8eaf-4b4f-b919-9ce91a635011"
      },
      "execution_count": null,
      "outputs": [
        {
          "output_type": "stream",
          "name": "stdout",
          "text": [
            "[2, 3, 4]\n"
          ]
        }
      ]
    },
    {
      "cell_type": "markdown",
      "source": [
        "## adding items to list\n"
      ],
      "metadata": {
        "id": "bwpearxg429J"
      }
    },
    {
      "cell_type": "code",
      "source": [
        "#append\n",
        "#used to add single item at end of list\n",
        "L=[[[1,2],[3,4]],[5]]\n",
        "L.append(6)\n",
        "print(L)"
      ],
      "metadata": {
        "colab": {
          "base_uri": "https://localhost:8080/"
        },
        "id": "KIo6RlYy413M",
        "outputId": "c99c785f-49ab-4ba3-806b-8b6c64eb2dc7"
      },
      "execution_count": null,
      "outputs": [
        {
          "output_type": "stream",
          "name": "stdout",
          "text": [
            "[[[1, 2], [3, 4]], [5], 6]\n"
          ]
        }
      ]
    },
    {
      "cell_type": "code",
      "source": [
        "#extend\n",
        "#used to add multiple item at list end\n",
        "L=[[[1,2],[3,4]],[5]]\n",
        "L.extend([7,8,9])\n",
        "print(L)"
      ],
      "metadata": {
        "colab": {
          "base_uri": "https://localhost:8080/"
        },
        "id": "K3sgt86w6Clp",
        "outputId": "9d5a2925-68b1-4391-881e-8c24b67f965f"
      },
      "execution_count": null,
      "outputs": [
        {
          "output_type": "stream",
          "name": "stdout",
          "text": [
            "[[[1, 2], [3, 4]], [5], 7, 8, 9]\n"
          ]
        }
      ]
    },
    {
      "cell_type": "code",
      "source": [
        "#APPEND ALWAYS CONVERT THE GIVEN INTO ONE THEN ADDS\n",
        "#EXTEND CONVERTS LESS INTO MORE"
      ],
      "metadata": {
        "id": "Iu8iY25K6fog"
      },
      "execution_count": null,
      "outputs": []
    },
    {
      "cell_type": "code",
      "source": [
        "#insert\n",
        "#used to insert item between items\n",
        "#tell index of insertion,what to insert\n",
        "L=[[[1,2],[3,4]],[5]]\n",
        "L.insert(1,100)\n",
        "print(L)"
      ],
      "metadata": {
        "colab": {
          "base_uri": "https://localhost:8080/"
        },
        "id": "onM7LvcV6flP",
        "outputId": "663603ee-5ccc-493b-cc8b-acb5e9ce788c"
      },
      "execution_count": null,
      "outputs": [
        {
          "output_type": "stream",
          "name": "stdout",
          "text": [
            "[[[1, 2], [3, 4]], 100, [5]]\n"
          ]
        }
      ]
    },
    {
      "cell_type": "markdown",
      "source": [
        "## editing items"
      ],
      "metadata": {
        "id": "e6mQtHSP9SRb"
      }
    },
    {
      "cell_type": "code",
      "source": [
        "#by indexing\n",
        "L=[1,2,3,4]\n",
        "L[1]=200\n",
        "print(L)"
      ],
      "metadata": {
        "colab": {
          "base_uri": "https://localhost:8080/"
        },
        "id": "xj0dr8_W9XLr",
        "outputId": "b77bf557-2c61-44cb-9776-3f3acbb49315"
      },
      "execution_count": null,
      "outputs": [
        {
          "output_type": "stream",
          "name": "stdout",
          "text": [
            "[1, 200, 3, 4]\n"
          ]
        }
      ]
    },
    {
      "cell_type": "code",
      "source": [
        "#by slicng\n",
        "L=[1,2,3,4]\n",
        "L[1:3]=100,200,200\n",
        "print(L)"
      ],
      "metadata": {
        "colab": {
          "base_uri": "https://localhost:8080/"
        },
        "id": "HkHk0oVI9yyn",
        "outputId": "6c362aa8-725b-4f3d-bd0f-60470017ad5a"
      },
      "execution_count": null,
      "outputs": [
        {
          "output_type": "stream",
          "name": "stdout",
          "text": [
            "[1, 100, 200, 200, 4]\n"
          ]
        }
      ]
    },
    {
      "cell_type": "markdown",
      "source": [
        "## deleting items\n"
      ],
      "metadata": {
        "id": "Q_NuwTsW-3_y"
      }
    },
    {
      "cell_type": "markdown",
      "source": [
        "#del"
      ],
      "metadata": {
        "id": "Lr3KzmhIAJfa"
      }
    },
    {
      "cell_type": "code",
      "source": [
        "\n",
        "L=[1,2,3,4]\n",
        "print(L)\n",
        "#INDEXING\n",
        "del L[-1]\n",
        "print(L)\n",
        "# SLICING\n",
        "del L[1:3]\n",
        "print(L)"
      ],
      "metadata": {
        "colab": {
          "base_uri": "https://localhost:8080/"
        },
        "id": "0VOzOAYi-82c",
        "outputId": "eabf45e2-5ad4-464b-e9af-a5e69dd1b64b"
      },
      "execution_count": null,
      "outputs": [
        {
          "output_type": "stream",
          "name": "stdout",
          "text": [
            "[1, 2, 3, 4]\n",
            "[1, 2, 3]\n",
            "[1]\n"
          ]
        }
      ]
    },
    {
      "cell_type": "markdown",
      "source": [
        "#remove"
      ],
      "metadata": {
        "id": "MGGZ3UmMANr9"
      }
    },
    {
      "cell_type": "code",
      "source": [
        "L=[1,2,3,4]\n",
        "L.remove(4)\n",
        "print(L)\n",
        "#REMOVES THE ITEM FROM THE LIST"
      ],
      "metadata": {
        "colab": {
          "base_uri": "https://localhost:8080/"
        },
        "id": "QxKbiq6nAGfd",
        "outputId": "aabf6b52-8d25-44e5-86d4-eecef999d488"
      },
      "execution_count": null,
      "outputs": [
        {
          "output_type": "stream",
          "name": "stdout",
          "text": [
            "[1, 2, 3]\n"
          ]
        }
      ]
    },
    {
      "cell_type": "markdown",
      "source": [
        "#POP"
      ],
      "metadata": {
        "id": "EcbLzTEIBCD2"
      }
    },
    {
      "cell_type": "code",
      "source": [
        "L=[1,2,3,4]\n",
        "L.pop()\n",
        "print(L)\n",
        "L.pop(1)\n",
        "print(L)\n",
        "#REMOVES THE ITEM FROM THE LAST LIST IF NOT MENTIONED THE INDEX\n",
        "#OTHERWIAE REMOVES THE MENTIONED INDEX"
      ],
      "metadata": {
        "colab": {
          "base_uri": "https://localhost:8080/"
        },
        "id": "HzntCGecBFE1",
        "outputId": "24f5ba72-98bf-416a-8313-2d43beedd92e"
      },
      "execution_count": null,
      "outputs": [
        {
          "output_type": "stream",
          "name": "stdout",
          "text": [
            "[1, 2, 3]\n",
            "[1, 3]\n"
          ]
        }
      ]
    },
    {
      "cell_type": "markdown",
      "source": [
        "#CLEAR"
      ],
      "metadata": {
        "id": "IfGkwABrB7sB"
      }
    },
    {
      "cell_type": "code",
      "source": [
        "L=[1,2,3,4]\n",
        "L.clear()\n",
        "print(L)\n",
        "#ONLY USED FOR REMOVING THE THE ITEMS OF THE LIST MAKING IT EMPTY\n",
        "L.clear(1)\n",
        "print(L)"
      ],
      "metadata": {
        "colab": {
          "base_uri": "https://localhost:8080/",
          "height": 211
        },
        "id": "pBMghTVYB9h3",
        "outputId": "a9466aea-dc10-43df-a81f-a72a2a1f5c49"
      },
      "execution_count": null,
      "outputs": [
        {
          "output_type": "stream",
          "name": "stdout",
          "text": [
            "[]\n"
          ]
        },
        {
          "output_type": "error",
          "ename": "TypeError",
          "evalue": "list.clear() takes no arguments (1 given)",
          "traceback": [
            "\u001b[0;31m---------------------------------------------------------------------------\u001b[0m",
            "\u001b[0;31mTypeError\u001b[0m                                 Traceback (most recent call last)",
            "\u001b[0;32m/tmp/ipython-input-12-2239841665.py\u001b[0m in \u001b[0;36m<cell line: 0>\u001b[0;34m()\u001b[0m\n\u001b[1;32m      3\u001b[0m \u001b[0mprint\u001b[0m\u001b[0;34m(\u001b[0m\u001b[0mL\u001b[0m\u001b[0;34m)\u001b[0m\u001b[0;34m\u001b[0m\u001b[0;34m\u001b[0m\u001b[0m\n\u001b[1;32m      4\u001b[0m \u001b[0;31m#ONLY USED FOR REMOVING THE THE ITEMS OF THE LIST MAKING IT EMPTY\u001b[0m\u001b[0;34m\u001b[0m\u001b[0;34m\u001b[0m\u001b[0m\n\u001b[0;32m----> 5\u001b[0;31m \u001b[0mL\u001b[0m\u001b[0;34m.\u001b[0m\u001b[0mclear\u001b[0m\u001b[0;34m(\u001b[0m\u001b[0;36m1\u001b[0m\u001b[0;34m)\u001b[0m\u001b[0;34m\u001b[0m\u001b[0;34m\u001b[0m\u001b[0m\n\u001b[0m\u001b[1;32m      6\u001b[0m \u001b[0mprint\u001b[0m\u001b[0;34m(\u001b[0m\u001b[0mL\u001b[0m\u001b[0;34m)\u001b[0m\u001b[0;34m\u001b[0m\u001b[0;34m\u001b[0m\u001b[0m\n",
            "\u001b[0;31mTypeError\u001b[0m: list.clear() takes no arguments (1 given)"
          ]
        }
      ]
    },
    {
      "cell_type": "markdown",
      "source": [
        "## LIST COMPREHENSION"
      ],
      "metadata": {
        "id": "ljr3AHNRT4Iv"
      }
    },
    {
      "cell_type": "code",
      "source": [
        "#scaler multiplication on a vector\n",
        "#method 1\n",
        "v=[1,2,3]\n",
        "s=2\n",
        "x=[]\n",
        "for i in v:\n",
        " x.append(s*i)\n",
        "print(x)\n",
        "\n",
        "\n",
        "#method 2 (list compre)\n",
        "[s*i for i in v]"
      ],
      "metadata": {
        "colab": {
          "base_uri": "https://localhost:8080/"
        },
        "id": "LNp9frlwT_BD",
        "outputId": "df400dd5-d949-4318-b0f6-8619db00b0ea"
      },
      "execution_count": null,
      "outputs": [
        {
          "output_type": "stream",
          "name": "stdout",
          "text": [
            "[2, 4, 6]\n"
          ]
        },
        {
          "output_type": "execute_result",
          "data": {
            "text/plain": [
              "[2, 4, 6]"
            ]
          },
          "metadata": {},
          "execution_count": 17
        }
      ]
    },
    {
      "cell_type": "code",
      "source": [
        "#add squares\n",
        "L=[1,2,3]\n",
        "x=[]\n",
        "[i**2 for i in L]"
      ],
      "metadata": {
        "colab": {
          "base_uri": "https://localhost:8080/"
        },
        "id": "66OXrLE1YQZY",
        "outputId": "ed670dde-cb73-4b00-ae42-c1b0d005a568"
      },
      "execution_count": null,
      "outputs": [
        {
          "output_type": "execute_result",
          "data": {
            "text/plain": [
              "[1, 4, 9]"
            ]
          },
          "metadata": {},
          "execution_count": 18
        }
      ]
    },
    {
      "cell_type": "code",
      "source": [
        "#print all no,divisible by 5 between 1 to 50\n",
        "[ i for i in range(1,51) if i%5==0]"
      ],
      "metadata": {
        "colab": {
          "base_uri": "https://localhost:8080/"
        },
        "id": "Pv54-rvNY6p5",
        "outputId": "fe2b15fe-c825-4f79-f690-8ee12b062306"
      },
      "execution_count": 1,
      "outputs": [
        {
          "output_type": "execute_result",
          "data": {
            "text/plain": [
              "[5, 10, 15, 20, 25, 30, 35, 40, 45, 50]"
            ]
          },
          "metadata": {},
          "execution_count": 1
        }
      ]
    },
    {
      "cell_type": "code",
      "source": [
        "#nested if list comprehension\n",
        "#add new list i if my fru item present in bas and startts with a\n",
        "bas=['app','ban','man']\n",
        "myfru=['app','gua','straw']\n",
        "[i for i in myfru if i in bas if i.startswith('a')]"
      ],
      "metadata": {
        "colab": {
          "base_uri": "https://localhost:8080/"
        },
        "id": "fgKeJCSpmTPo",
        "outputId": "e9db49be-4ddd-4930-dabe-a98de83f965e"
      },
      "execution_count": 5,
      "outputs": [
        {
          "output_type": "execute_result",
          "data": {
            "text/plain": [
              "['app']"
            ]
          },
          "metadata": {},
          "execution_count": 5
        }
      ]
    },
    {
      "cell_type": "code",
      "source": [
        "#print(3,3) matrix using list compreh\n",
        "[[i*j for i in range(1,4) ] for j in range(1,4)]"
      ],
      "metadata": {
        "colab": {
          "base_uri": "https://localhost:8080/"
        },
        "id": "UIyKFDOenzHQ",
        "outputId": "3c19a844-2ade-4393-aea2-3ef45ba387cd"
      },
      "execution_count": 6,
      "outputs": [
        {
          "output_type": "execute_result",
          "data": {
            "text/plain": [
              "[[1, 2, 3], [2, 4, 6], [3, 6, 9]]"
            ]
          },
          "metadata": {},
          "execution_count": 6
        }
      ]
    },
    {
      "cell_type": "code",
      "source": [
        "#cartesian product\n",
        "L1=[1,2]\n",
        "L2=[1,2,3]\n",
        "[[i*j for i in L1] for j in L2]"
      ],
      "metadata": {
        "colab": {
          "base_uri": "https://localhost:8080/"
        },
        "id": "IalEEBZ7reD0",
        "outputId": "574c4283-ce30-4ae2-80f8-f5b6604f2271"
      },
      "execution_count": 8,
      "outputs": [
        {
          "output_type": "execute_result",
          "data": {
            "text/plain": [
              "[[1, 2], [2, 4], [3, 6]]"
            ]
          },
          "metadata": {},
          "execution_count": 8
        }
      ]
    },
    {
      "cell_type": "code",
      "source": [
        "L1=[1,2,print,type]\n",
        "print(L1)"
      ],
      "metadata": {
        "colab": {
          "base_uri": "https://localhost:8080/"
        },
        "id": "7ZBG2wAureAM",
        "outputId": "e99c3073-c6dd-445f-db90-8b83f6b7b5ce"
      },
      "execution_count": 10,
      "outputs": [
        {
          "output_type": "stream",
          "name": "stdout",
          "text": [
            "[1, 2, <built-in function print>, <class 'type'>]\n"
          ]
        }
      ]
    },
    {
      "cell_type": "markdown",
      "source": [
        "#disadvantage"
      ],
      "metadata": {
        "id": "KTZyKne3yLGh"
      }
    },
    {
      "cell_type": "code",
      "source": [
        "#risky python list\n",
        "#to avoid this a.copy in b\n",
        "A=[1,2]\n",
        "b=A\n",
        "print(A)\n",
        "print(b)\n",
        "A.append(4)\n",
        "print(A)\n",
        "print(b)\n",
        "#as python are mutable stores lists at same place if putted a=b"
      ],
      "metadata": {
        "colab": {
          "base_uri": "https://localhost:8080/"
        },
        "id": "vD_9J9i8yPWL",
        "outputId": "4750235c-037a-408a-d6f7-cd65c3b92000"
      },
      "execution_count": 11,
      "outputs": [
        {
          "output_type": "stream",
          "name": "stdout",
          "text": [
            "[1, 2]\n",
            "[1, 2]\n",
            "[1, 2, 4]\n",
            "[1, 2, 4]\n"
          ]
        }
      ]
    }
  ]
}