{
  "cells": [
    {
      "cell_type": "code",
      "execution_count": null,
      "metadata": {
        "id": "rZs66YnJkDIS"
      },
      "outputs": [],
      "source": [
        "#syntax to create an object\n",
        "#object_name=class_name()"
      ]
    },
    {
      "cell_type": "code",
      "execution_count": null,
      "metadata": {
        "id": "8Xhbl9h9q9Wr"
      },
      "outputs": [],
      "source": [
        "L=list()"
      ]
    },
    {
      "cell_type": "code",
      "execution_count": null,
      "metadata": {
        "id": "COJmTxaRuGa8"
      },
      "outputs": [],
      "source": [
        "#pascal case"
      ]
    },
    {
      "cell_type": "code",
      "execution_count": 2,
      "metadata": {
        "id": "o2s8CWS_uMhy"
      },
      "outputs": [],
      "source": [
        "class Atm:\n",
        "\n",
        "  #constructor -->  function inside a class\n",
        "  #special function --> superpower--> no need to call it for executing code inside of it\n",
        "  ## --> whenever an object is created of its class , it excutes on its own\n",
        "  def __init__(self):#ye waala\n",
        "    self.pin=''\n",
        "    self.balance=0\n",
        "    #function ke andr ke variable me self. lgega\n",
        "    self.menu()\n",
        "\n",
        "\n",
        "\n",
        "  def menu(self):\n",
        "    user_input=input(\"\"\"\n",
        "    hi how can i help you\n",
        "    1.Press 1 to craete pin\n",
        "    2.Press 2 to chnge pin\n",
        "    3.Press 3 to check balance\n",
        "    4.Press 4 to withdraw\n",
        "    5.anything else to exit\n",
        "    \"\"\")\n",
        "\n",
        "\n",
        "\n",
        "    if user_input =='1':\n",
        "      # create pin\n",
        "      self.create_pin()\n",
        "      self.menu()\n",
        "    elif user_input =='2':\n",
        "      # change pin\n",
        "      self.change_pin()\n",
        "\n",
        "    elif user_input =='3':\n",
        "      # check balance\n",
        "      self.check_balance()\n",
        "\n",
        "    elif user_input =='4':\n",
        "      #create withdraw\n",
        "      self.withdraw()\n",
        "    else :\n",
        "      exit()\n",
        "\n",
        "  def create_pin(self):\n",
        "    user_pin=input('enter you pin')\n",
        "    self.pin = user_pin\n",
        "\n",
        "    user_balance=int(input('enter balance'))\n",
        "    self.balance=user_balance\n",
        "\n",
        "    print('pin created successfully')\n",
        "\n",
        "\n",
        "\n",
        "  def change_pin(self):\n",
        "    old_pin=input('old pin')\n",
        "    if old_pin==self.pin:\n",
        "      #let chnage pin\n",
        "      new_pin=input('new pin')\n",
        "      self.pin==new_pin\n",
        "      print('pin change sucessful')\n",
        "      self.menu()\n",
        "    else:\n",
        "      #no change\n",
        "      print('nhi krne dunga')\n",
        "      self.menu()\n",
        "\n",
        "\n",
        "\n",
        "  def check_balance(self):\n",
        "    user_pin=input('enter pin')\n",
        "    if user_pin==self.pin:\n",
        "      print('balance is ' , self.balance)\n",
        "    else:\n",
        "      print('nikl yhaa se')\n",
        "    self.menu()\n",
        "\n",
        "\n",
        "\n",
        "  def withdraw(self):\n",
        "    user_pin=input('enter pin ')\n",
        "    if user_pin==self.pin:\n",
        "      print('you can withdraw  ')\n",
        "      amount=int(input('enter amount to withdraw'))\n",
        "      if amount <= self.balance:\n",
        "        self.balance=self.balance- amount\n",
        "        print('withdraw sucess, new balance is ', self.balance )\n",
        "        self.menu()\n",
        "      else:\n",
        "         print('no money sufficient')\n",
        "    else:\n",
        "      print('bulao police ko ,chor')\n",
        "\n"
      ]
    },
    {
      "cell_type": "code",
      "execution_count": 3,
      "metadata": {
        "colab": {
          "base_uri": "https://localhost:8080/"
        },
        "id": "jWhxGZC4u7Ta",
        "outputId": "440e4c82-0b31-47fc-c951-5d683fea3db2"
      },
      "outputs": [
        {
          "name": "stdout",
          "output_type": "stream",
          "text": [
            "\n",
            "    hi how can i help you\n",
            "    1.Press 1 to craete pin\n",
            "    2.Press 2 to chnge pin\n",
            "    3.Press 3 to check balance\n",
            "    4.Press 4 to withdraw\n",
            "    5.anything else to exit\n",
            "    1\n",
            "enter you pin1234\n",
            "enter balance1000\n",
            "pin created successfully\n",
            "\n",
            "    hi how can i help you\n",
            "    1.Press 1 to craete pin\n",
            "    2.Press 2 to chnge pin\n",
            "    3.Press 3 to check balance\n",
            "    4.Press 4 to withdraw\n",
            "    5.anything else to exit\n",
            "    4\n",
            "enter pin 1234\n",
            "you can withdraw  \n",
            "enter amount to withdraw150\n",
            "withdraw sucess, new balance is  850\n",
            "\n",
            "    hi how can i help you\n",
            "    1.Press 1 to craete pin\n",
            "    2.Press 2 to chnge pin\n",
            "    3.Press 3 to check balance\n",
            "    4.Press 4 to withdraw\n",
            "    5.anything else to exit\n",
            "    5\n"
          ]
        }
      ],
      "source": [
        "\n",
        "#creating object\n",
        "obj=Atm()"
      ]
    },
    {
      "cell_type": "code",
      "execution_count": null,
      "metadata": {
        "colab": {
          "base_uri": "https://localhost:8080/"
        },
        "id": "huQFO6a1vLEs",
        "outputId": "635f021c-829f-4a3e-baa9-e9d656f7c876"
      },
      "outputs": [
        {
          "name": "stdout",
          "output_type": "stream",
          "text": [
            "<class '__main__.Atm'>\n"
          ]
        }
      ],
      "source": [
        "print(type(obj))\n",
        "#checking object type"
      ]
    },
    {
      "cell_type": "code",
      "execution_count": 1,
      "metadata": {
        "id": "HOKV7eGGvckP"
      },
      "outputs": [],
      "source": [
        "l=[1,23,4]\n",
        "len(l)## function--> defined for outside class (mtlb kisi me class me applied)\n",
        "l.append(3)# class specific and is inside of the class"
      ]
    },
    {
      "cell_type": "code",
      "source": [
        "#creating own data type"
      ],
      "metadata": {
        "id": "meFBWghNtlzz"
      },
      "execution_count": null,
      "outputs": []
    },
    {
      "cell_type": "code",
      "source": [
        "#want to build data type thta returns fraction on operation of fraction\n",
        "3/4*9/2"
      ],
      "metadata": {
        "colab": {
          "base_uri": "https://localhost:8080/"
        },
        "id": "Uwb1mwjkto3S",
        "outputId": "53149e73-a514-47a0-836c-5d384c17e843"
      },
      "execution_count": 1,
      "outputs": [
        {
          "output_type": "execute_result",
          "data": {
            "text/plain": [
              "3.375"
            ]
          },
          "metadata": {},
          "execution_count": 1
        }
      ]
    },
    {
      "cell_type": "code",
      "source": [
        "class Fraction:\n",
        "\n",
        "  #parameterized constructor-->needs input when constructor is made\n",
        "  def __init__(self,x,y):\n",
        "    self.num = x\n",
        "    self.den = y\n",
        "\n",
        "\n",
        "  def __str__(self):\n",
        "    return '{}/{}'.format(self.num ,self.den)\n",
        "   # whenever the object is printed the str constructor is automatically called\n",
        "   #depicts representation\n",
        "\n",
        "\n",
        "  def __add__(self,other):\n",
        "    #execute when  + put bw objects\n",
        "    new_num=self.num*other.den + other.num*self.den\n",
        "    new_den=self.den*other.den\n",
        "\n",
        "    return '{}/{}'.format(new_num, new_den)\n",
        "\n",
        "\n",
        "\n",
        "  def __sub__(self,other):\n",
        "    #execute when  - put bw objects\n",
        "    new_num=self.num*other.den - other.num*self.den\n",
        "    new_den=self.den*other.den\n",
        "\n",
        "    return '{}/{}'.format(new_num, new_den)\n",
        "\n",
        "\n",
        "\n",
        "  def __mul__(self,other):\n",
        "    #execute when  * put bw objects\n",
        "    new_num=self.num*other.num\n",
        "    new_den=self.den*other.den\n",
        "\n",
        "    return '{}/{}'.format(new_num, new_den)\n",
        "\n",
        "  def __truediv__(self,other):\n",
        "    #execute when  / put bw objects\n",
        "    new_num=self.num*other.den\n",
        "    new_den=self.den*other.num\n",
        "\n",
        "    return '{}/{}'.format(new_num, new_den)\n",
        "\n",
        "\n",
        "  def to_decimal(self):\n",
        "    return self.num/self.den"
      ],
      "metadata": {
        "id": "DDS2iEpVt808"
      },
      "execution_count": 54,
      "outputs": []
    },
    {
      "cell_type": "code",
      "source": [
        "fr1 = Fraction(3,4)\n",
        "fr2 = Fraction(1,4)"
      ],
      "metadata": {
        "id": "OhNw92uXwfv3"
      },
      "execution_count": 55,
      "outputs": []
    },
    {
      "cell_type": "code",
      "source": [
        "print(fr1)\n",
        "print(fr2)"
      ],
      "metadata": {
        "colab": {
          "base_uri": "https://localhost:8080/"
        },
        "id": "MCScJfYIyGmB",
        "outputId": "ac1ac585-7421-42dd-fdd4-54743d32c777"
      },
      "execution_count": 49,
      "outputs": [
        {
          "output_type": "stream",
          "name": "stdout",
          "text": [
            "3/4\n",
            "1/4\n"
          ]
        }
      ]
    },
    {
      "cell_type": "code",
      "source": [
        "print(fr1 + fr2)"
      ],
      "metadata": {
        "colab": {
          "base_uri": "https://localhost:8080/"
        },
        "id": "BUgPxS122v4w",
        "outputId": "bfa7fa26-b2de-46f1-db25-e2bafb6f324c"
      },
      "execution_count": 50,
      "outputs": [
        {
          "output_type": "stream",
          "name": "stdout",
          "text": [
            "16/16\n"
          ]
        }
      ]
    },
    {
      "cell_type": "code",
      "source": [
        "print(fr1 - fr2)"
      ],
      "metadata": {
        "colab": {
          "base_uri": "https://localhost:8080/"
        },
        "id": "24nDCGd93VXS",
        "outputId": "3084b82b-fa65-49da-ee11-855f214787b8"
      },
      "execution_count": 51,
      "outputs": [
        {
          "output_type": "stream",
          "name": "stdout",
          "text": [
            "8/16\n"
          ]
        }
      ]
    },
    {
      "cell_type": "code",
      "source": [
        "print(fr1 *fr2)"
      ],
      "metadata": {
        "colab": {
          "base_uri": "https://localhost:8080/"
        },
        "id": "GBYnXQpR4aJh",
        "outputId": "f4ad28e4-81ee-42be-967d-a7440a4feb74"
      },
      "execution_count": 52,
      "outputs": [
        {
          "output_type": "stream",
          "name": "stdout",
          "text": [
            "3/16\n"
          ]
        }
      ]
    },
    {
      "cell_type": "code",
      "source": [
        "print(fr1/fr2)"
      ],
      "metadata": {
        "colab": {
          "base_uri": "https://localhost:8080/"
        },
        "id": "yD7iZdP14dw9",
        "outputId": "b1165210-fe62-4290-f2be-6d73bc064bee"
      },
      "execution_count": 53,
      "outputs": [
        {
          "output_type": "stream",
          "name": "stdout",
          "text": [
            "12/4\n"
          ]
        }
      ]
    },
    {
      "cell_type": "code",
      "source": [
        "fr1.to_decimal()"
      ],
      "metadata": {
        "colab": {
          "base_uri": "https://localhost:8080/"
        },
        "id": "G4-zJVFS5e6y",
        "outputId": "fde5369f-60b7-497c-944e-d01037074d35"
      },
      "execution_count": 58,
      "outputs": [
        {
          "output_type": "execute_result",
          "data": {
            "text/plain": [
              "0.75"
            ]
          },
          "metadata": {},
          "execution_count": 58
        }
      ]
    }
  ],
  "metadata": {
    "colab": {
      "provenance": []
    },
    "kernelspec": {
      "display_name": "Python 3",
      "name": "python3"
    },
    "language_info": {
      "name": "python"
    }
  },
  "nbformat": 4,
  "nbformat_minor": 0
}