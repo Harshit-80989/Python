{
  "nbformat": 4,
  "nbformat_minor": 0,
  "metadata": {
    "colab": {
      "provenance": []
    },
    "kernelspec": {
      "name": "python3",
      "display_name": "Python 3"
    },
    "language_info": {
      "name": "python"
    }
  },
  "cells": [
    {
      "cell_type": "markdown",
      "source": [
        "### 1.**PYTHON OUTPUT **"
      ],
      "metadata": {
        "id": "ds2gJgnHHRCQ"
      }
    },
    {
      "cell_type": "code",
      "source": [
        "print ('you are my')\n",
        "print(' dost')"
      ],
      "metadata": {
        "colab": {
          "base_uri": "https://localhost:8080/"
        },
        "id": "9BFHD0jtHjlk",
        "outputId": "f2239d2d-2dac-4f2a-a2ca-40c1087ec5a8"
      },
      "execution_count": 1,
      "outputs": [
        {
          "output_type": "stream",
          "name": "stdout",
          "text": [
            "you are my\n",
            " dost\n"
          ]
        }
      ]
    },
    {
      "cell_type": "code",
      "source": [
        "## '' btata hai ki ye mera string hai iske aandar"
      ],
      "metadata": {
        "id": "nDGbzl2TI31a"
      },
      "execution_count": null,
      "outputs": []
    },
    {
      "cell_type": "code",
      "source": [
        "print(4)"
      ],
      "metadata": {
        "colab": {
          "base_uri": "https://localhost:8080/"
        },
        "id": "Rj829VfcJndb",
        "outputId": "5edfbea3-72e3-41cc-ead6-c681a5ecb79c"
      },
      "execution_count": null,
      "outputs": [
        {
          "output_type": "stream",
          "name": "stdout",
          "text": [
            "4\n"
          ]
        }
      ]
    },
    {
      "cell_type": "code",
      "source": [
        "print('hello', 3.3,59,True)"
      ],
      "metadata": {
        "colab": {
          "base_uri": "https://localhost:8080/"
        },
        "id": "5eUk1c8nJzcx",
        "outputId": "7c6563a4-d18f-488c-c856-402c8da06a7d"
      },
      "execution_count": null,
      "outputs": [
        {
          "output_type": "stream",
          "name": "stdout",
          "text": [
            "hello 3.3 59 True\n"
          ]
        }
      ]
    },
    {
      "cell_type": "code",
      "source": [
        "print('hello', 3.3,59,True,sep='/')"
      ],
      "metadata": {
        "colab": {
          "base_uri": "https://localhost:8080/"
        },
        "id": "pnmpqknhKjl5",
        "outputId": "2baff252-dedd-4492-d36a-d4d0693d43e1"
      },
      "execution_count": null,
      "outputs": [
        {
          "output_type": "stream",
          "name": "stdout",
          "text": [
            "hello/3.3/59/True\n"
          ]
        }
      ]
    },
    {
      "cell_type": "code",
      "source": [
        "##print('hello', 3.3,59,True,sep='\\')\n",
        "## gives an error bcz. \\ is an backlash used for file paths\n",
        "## so to avoid it use \\\\\n"
      ],
      "metadata": {
        "id": "lJIIZc4RLf8y"
      },
      "execution_count": null,
      "outputs": []
    },
    {
      "cell_type": "code",
      "source": [
        "print('hello', 3.3,59,True,sep='\\\\')\n",
        "##sep isliye use hua kyuki sepearble yha pr \\ krna tha\n",
        "##print pr cursor le jaao to haa sep aur end dikhega usee change kr skte  ho"
      ],
      "metadata": {
        "colab": {
          "base_uri": "https://localhost:8080/"
        },
        "id": "84Kjbt02L3Xy",
        "outputId": "0f462a9a-5887-4a78-e1b8-0e2f038652ba"
      },
      "execution_count": null,
      "outputs": [
        {
          "output_type": "stream",
          "name": "stdout",
          "text": [
            "hello\\3.3\\59\\True\n"
          ]
        }
      ]
    },
    {
      "cell_type": "code",
      "source": [
        "print ('you are my',end='-')\n",
        "print(' dost')\n",
        "## ab new line me nhi jaaayega"
      ],
      "metadata": {
        "colab": {
          "base_uri": "https://localhost:8080/"
        },
        "id": "tEusBN7wM_qH",
        "outputId": "8a4e7cb4-48ab-46e9-9d90-6af5ed83491f"
      },
      "execution_count": 2,
      "outputs": [
        {
          "output_type": "stream",
          "name": "stdout",
          "text": [
            "you are my- dost\n"
          ]
        }
      ]
    },
    {
      "cell_type": "markdown",
      "source": [
        "# 2. DATA TYPES\n"
      ],
      "metadata": {
        "id": "hhYMqxR-OIqS"
      }
    },
    {
      "cell_type": "code",
      "source": [
        "#complex number\n",
        "print (5+5j)\n",
        "##print 5+5j gives error bcz.() is uesed in for print func\n",
        "## python adds() on its own for complex number representation in output"
      ],
      "metadata": {
        "colab": {
          "base_uri": "https://localhost:8080/"
        },
        "id": "pqw9Et4oOSzR",
        "outputId": "442e582d-e71e-46fe-ffc2-2306a9769444"
      },
      "execution_count": null,
      "outputs": [
        {
          "output_type": "stream",
          "name": "stdout",
          "text": [
            "(5+5j)\n"
          ]
        }
      ]
    },
    {
      "cell_type": "code",
      "source": [
        " #lists\n",
        "print([1,2,3])"
      ],
      "metadata": {
        "colab": {
          "base_uri": "https://localhost:8080/"
        },
        "id": "gkWwkfBpRPpc",
        "outputId": "071a8ae8-f305-4c12-b02d-8927d03ae1ed"
      },
      "execution_count": null,
      "outputs": [
        {
          "output_type": "stream",
          "name": "stdout",
          "text": [
            "[1, 2, 3]\n"
          ]
        }
      ]
    },
    {
      "cell_type": "code",
      "source": [
        "#tupple\n",
        "print((1,2,3))"
      ],
      "metadata": {
        "colab": {
          "base_uri": "https://localhost:8080/"
        },
        "id": "DXJn3mu6RzcO",
        "outputId": "659a5879-1202-4ae6-911e-6c9e2c051e5b"
      },
      "execution_count": null,
      "outputs": [
        {
          "output_type": "stream",
          "name": "stdout",
          "text": [
            "(1, 2, 3)\n"
          ]
        }
      ]
    },
    {
      "cell_type": "code",
      "source": [
        "#sets\n",
        "print({1,2,3})"
      ],
      "metadata": {
        "colab": {
          "base_uri": "https://localhost:8080/"
        },
        "id": "ZyM-Y3OiSTPt",
        "outputId": "94c89fa3-cd1f-4541-8f0a-d32aafb39a47"
      },
      "execution_count": null,
      "outputs": [
        {
          "output_type": "stream",
          "name": "stdout",
          "text": [
            "{1, 2, 3}\n"
          ]
        }
      ]
    },
    {
      "cell_type": "code",
      "source": [
        "#dictionary\n",
        "print({'name':'harshit','age':20})\n",
        "#'20' nbhi kr skte haui"
      ],
      "metadata": {
        "colab": {
          "base_uri": "https://localhost:8080/"
        },
        "id": "ps0afvhcS8jj",
        "outputId": "7b4ff817-b019-4bf8-b379-3ff71a8e2a69"
      },
      "execution_count": null,
      "outputs": [
        {
          "output_type": "stream",
          "name": "stdout",
          "text": [
            "{'name': 'harshit', 'age': 20}\n"
          ]
        }
      ]
    },
    {
      "cell_type": "code",
      "source": [
        "#type\n",
        "type('hell')"
      ],
      "metadata": {
        "colab": {
          "base_uri": "https://localhost:8080/"
        },
        "id": "hQIp7YdIVmBw",
        "outputId": "976404f6-af1b-45bb-cfc4-ffae15d95af6"
      },
      "execution_count": null,
      "outputs": [
        {
          "output_type": "execute_result",
          "data": {
            "text/plain": [
              "str"
            ]
          },
          "metadata": {},
          "execution_count": 22
        }
      ]
    },
    {
      "cell_type": "markdown",
      "source": [
        "# 3. VARIABLE"
      ],
      "metadata": {
        "id": "-JcHA-ciWmKe"
      }
    },
    {
      "cell_type": "code",
      "source": [
        "NAME='HARSHIT'## variable declaration and initialization\n",
        "print(NAME)"
      ],
      "metadata": {
        "colab": {
          "base_uri": "https://localhost:8080/"
        },
        "id": "QnssQ4AOWr8d",
        "outputId": "1e43a6f3-d195-421b-82a9-f358c18484c5"
      },
      "execution_count": null,
      "outputs": [
        {
          "output_type": "stream",
          "name": "stdout",
          "text": [
            "HARSHIT\n"
          ]
        }
      ]
    },
    {
      "cell_type": "code",
      "source": [
        "#multiple variable declaration\n",
        "a,b,c=12,1,3\n",
        "print (a,b)"
      ],
      "metadata": {
        "colab": {
          "base_uri": "https://localhost:8080/"
        },
        "id": "d-mG8H_aXGK-",
        "outputId": "bc24035e-f4e1-4dec-ab4e-34f298b26629"
      },
      "execution_count": null,
      "outputs": [
        {
          "output_type": "stream",
          "name": "stdout",
          "text": [
            "12 1\n"
          ]
        }
      ]
    },
    {
      "cell_type": "code",
      "source": [
        "#miultiple same varaible same value\n",
        "a=b=c=5\n",
        "print (a,b)"
      ],
      "metadata": {
        "colab": {
          "base_uri": "https://localhost:8080/"
        },
        "id": "6ep3naObaLFH",
        "outputId": "20af61b3-c5be-4558-a57d-b3e044552829"
      },
      "execution_count": null,
      "outputs": [
        {
          "output_type": "stream",
          "name": "stdout",
          "text": [
            "5 5\n"
          ]
        }
      ]
    },
    {
      "cell_type": "markdown",
      "source": [
        "# 5.USER INPUT"
      ],
      "metadata": {
        "id": "v9bB03FcXISO"
      }
    },
    {
      "cell_type": "code",
      "source": [
        "input('enter email')"
      ],
      "metadata": {
        "colab": {
          "base_uri": "https://localhost:8080/",
          "height": 53
        },
        "id": "4o7CiL9FjEsP",
        "outputId": "71f06cf9-2c21-4bfd-b98c-99a422cf9a76"
      },
      "execution_count": null,
      "outputs": [
        {
          "name": "stdout",
          "output_type": "stream",
          "text": [
            "enter emailhg980-7280@gmail.com\n"
          ]
        },
        {
          "output_type": "execute_result",
          "data": {
            "text/plain": [
              "'hg980-7280@gmail.com'"
            ],
            "application/vnd.google.colaboratory.intrinsic+json": {
              "type": "string"
            }
          },
          "metadata": {},
          "execution_count": 1
        }
      ]
    },
    {
      "cell_type": "code",
      "source": [
        "#take input\n",
        "fnum=input('enter first num')\n",
        "snum=input('enter second num')\n",
        "#add num\n",
        "result=fnum + snum\n",
        "#print result\n",
        "print(result)\n",
        "#to remove this converrssion shit we use type conversion\n",
        "#as python is string ka paglu sbko string me bdl deta haai"
      ],
      "metadata": {
        "colab": {
          "base_uri": "https://localhost:8080/"
        },
        "id": "bNSSVC9nkHO0",
        "outputId": "d76d3621-32df-42d6-ac4b-6d45ede7b9f4"
      },
      "execution_count": null,
      "outputs": [
        {
          "output_type": "stream",
          "name": "stdout",
          "text": [
            "enter first num2\n",
            "enter second num3\n",
            "23\n"
          ]
        }
      ]
    },
    {
      "cell_type": "code",
      "source": [
        "#take input\n",
        "fnum=input('enter first num')\n",
        "snum=input('enter second num')\n",
        "#add num\n",
        "result=int(fnum) + int(snum)\n",
        "#print result\n",
        "print(result)\n",
        "#using explict conversion\n",
        "print(type(fnum))\n",
        "# Type conversion doesn't change the data type of the original data, but makes another one"
      ],
      "metadata": {
        "colab": {
          "base_uri": "https://localhost:8080/"
        },
        "id": "3WwKOXiwrSQk",
        "outputId": "318d81e0-f8c3-48b1-f899-e722ad02e386"
      },
      "execution_count": null,
      "outputs": [
        {
          "output_type": "stream",
          "name": "stdout",
          "text": [
            "enter first num2\n",
            "enter second num3\n",
            "5\n",
            "<class 'str'>\n"
          ]
        }
      ]
    },
    {
      "cell_type": "code",
      "source": [
        "#take input\n",
        "fnum=input('enter first num')\n",
        "snum=input('enter second num')\n",
        "#add num\n",
        "result=fnum + snum\n",
        "#print result\n",
        "print(int(result))\n",
        "#using explict conversion\n",
        "print(type(fnum))"
      ],
      "metadata": {
        "colab": {
          "base_uri": "https://localhost:8080/"
        },
        "id": "eZczwTZrtQyk",
        "outputId": "4406fa86-63ad-4ce8-822f-d635c73aa308"
      },
      "execution_count": null,
      "outputs": [
        {
          "output_type": "stream",
          "name": "stdout",
          "text": [
            "enter first num2\n",
            "enter second num3\n",
            "23\n",
            "<class 'str'>\n"
          ]
        }
      ]
    },
    {
      "cell_type": "markdown",
      "source": [
        "# 6.TYPE CONVERSION"
      ],
      "metadata": {
        "id": "r3Rw6HF0nTQD"
      }
    },
    {
      "cell_type": "code",
      "source": [
        "#implicit\n",
        "print(4+4)\n",
        "#print(4+'4') gives error as str+int"
      ],
      "metadata": {
        "colab": {
          "base_uri": "https://localhost:8080/"
        },
        "id": "5_8Gr3tonYli",
        "outputId": "88beca33-80ea-4d21-920f-b011606c25e6"
      },
      "execution_count": null,
      "outputs": [
        {
          "output_type": "stream",
          "name": "stdout",
          "text": [
            "8\n"
          ]
        }
      ]
    },
    {
      "cell_type": "code",
      "source": [
        "#explicit\n",
        "print(int('4'))\n",
        "#int(4+4j) gives error as type conversion only possible only in same type\n",
        "float(True)\n",
        "str(5)\n",
        "#jisme convert krna wo data type and(jo krna hain)"
      ],
      "metadata": {
        "colab": {
          "base_uri": "https://localhost:8080/",
          "height": 53
        },
        "id": "cn4FR85Pp8oj",
        "outputId": "e2825761-3377-4ef4-c632-7f1cff8a648b"
      },
      "execution_count": null,
      "outputs": [
        {
          "output_type": "stream",
          "name": "stdout",
          "text": [
            "4\n"
          ]
        },
        {
          "output_type": "execute_result",
          "data": {
            "text/plain": [
              "'5'"
            ],
            "application/vnd.google.colaboratory.intrinsic+json": {
              "type": "string"
            }
          },
          "metadata": {},
          "execution_count": 14
        }
      ]
    },
    {
      "cell_type": "markdown",
      "source": [
        "# 7.LITERALS"
      ],
      "metadata": {
        "id": "iO8__JsEv6V2"
      }
    },
    {
      "cell_type": "code",
      "source": [
        "##LITERALS\n",
        "a=0x12c\n",
        "print(a)"
      ],
      "metadata": {
        "colab": {
          "base_uri": "https://localhost:8080/"
        },
        "id": "gQM4wA8evEZS",
        "outputId": "a21bb972-7016-46ed-d6c2-7f23aa9573bc"
      },
      "execution_count": null,
      "outputs": [
        {
          "output_type": "stream",
          "name": "stdout",
          "text": [
            "300\n"
          ]
        }
      ]
    },
    {
      "cell_type": "code",
      "source": [
        "x=3+8j\n",
        "print(x.real)\n",
        "print(x.imag)"
      ],
      "metadata": {
        "colab": {
          "base_uri": "https://localhost:8080/"
        },
        "id": "qlvY4emYwATa",
        "outputId": "bd0e9b42-9a3d-4c77-9fe4-a446e67377b7"
      },
      "execution_count": null,
      "outputs": [
        {
          "output_type": "stream",
          "name": "stdout",
          "text": [
            "3.0\n",
            "8.0\n"
          ]
        }
      ]
    },
    {
      "cell_type": "code",
      "source": [
        "string = 'This is Python'\n",
        "strings = \"This is Python\"\n",
        "char = \"C\"\n",
        "multiline_str = \"\"\"This is a multiline string with more than one line code.\"\"\"\n",
        "unicode = u\"\\U0001f590\\U0001F606\\U0001F923\"\n",
        "raw_str = r\"raw \\n string\"\n",
        "\n",
        "print(string)\n",
        "print(strings)\n",
        "print(char)\n",
        "print(multiline_str)\n",
        "print(unicode)\n",
        "print(raw_str)"
      ],
      "metadata": {
        "colab": {
          "base_uri": "https://localhost:8080/"
        },
        "id": "8PTLrFgxB3E_",
        "outputId": "0ec46aeb-b168-4467-d7fd-fcf4d2186fa0"
      },
      "execution_count": null,
      "outputs": [
        {
          "output_type": "stream",
          "name": "stdout",
          "text": [
            "This is Python\n",
            "This is Python\n",
            "C\n",
            "This is a multiline string with more than one line code.\n",
            "🖐😆🤣\n",
            "raw \\n string\n"
          ]
        }
      ]
    },
    {
      "cell_type": "code",
      "source": [
        "a = True + 4\n",
        "b = False + 10\n",
        "\n",
        "print(\"a:\", a)\n",
        "print(\"b:\", b)"
      ],
      "metadata": {
        "colab": {
          "base_uri": "https://localhost:8080/"
        },
        "id": "4bnQyoEfC9U4",
        "outputId": "7270399c-25f5-48bf-d083-0f1c94b9aa01"
      },
      "execution_count": null,
      "outputs": [
        {
          "output_type": "stream",
          "name": "stdout",
          "text": [
            "a: 5\n",
            "b: 10\n"
          ]
        }
      ]
    },
    {
      "cell_type": "code",
      "source": [
        "k = None # used None just for variable declaration and use in future purposes\n",
        "a = 5\n",
        "b = 6\n",
        "print('Program exe')"
      ],
      "metadata": {
        "colab": {
          "base_uri": "https://localhost:8080/"
        },
        "id": "9GOYBBzMDfX0",
        "outputId": "d8f22995-cb17-45fe-d74c-805a7e85cca5"
      },
      "execution_count": null,
      "outputs": [
        {
          "output_type": "stream",
          "name": "stdout",
          "text": [
            "Program exe\n"
          ]
        }
      ]
    }
  ]
}