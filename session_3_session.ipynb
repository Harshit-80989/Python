{
  "nbformat": 4,
  "nbformat_minor": 0,
  "metadata": {
    "colab": {
      "provenance": []
    },
    "kernelspec": {
      "name": "python3",
      "display_name": "Python 3"
    },
    "language_info": {
      "name": "python"
    }
  },
  "cells": [
    {
      "cell_type": "markdown",
      "source": [
        "# 1/1! + 2/2! +3/3!+....\n"
      ],
      "metadata": {
        "id": "EKl3BmatP60L"
      }
    },
    {
      "cell_type": "code",
      "source": [
        "num=int(input('num'))\n",
        "fact=1\n",
        "result=0\n",
        "for i in range(1,num+1):\n",
        "  fact=fact*i\n",
        "  result=result+i/fact\n",
        "print(result)\n"
      ],
      "metadata": {
        "colab": {
          "base_uri": "https://localhost:8080/"
        },
        "id": "PfArhsayQIwU",
        "outputId": "81b6214f-1c4e-4880-e8f6-4889444fbcce"
      },
      "execution_count": null,
      "outputs": [
        {
          "output_type": "stream",
          "name": "stdout",
          "text": [
            "num2\n",
            "2.0\n"
          ]
        }
      ]
    },
    {
      "cell_type": "markdown",
      "source": [
        "# Nested LOops"
      ],
      "metadata": {
        "id": "aCdj-aVocNTF"
      }
    },
    {
      "cell_type": "markdown",
      "source": [
        "## 1.\n",
        "\n",
        "\n",
        "\n"
      ],
      "metadata": {
        "id": "2v2jzRDxcVyk"
      }
    },
    {
      "cell_type": "code",
      "source": [
        "# row =n\n",
        "#row no. ia i nd column no is j\n",
        "n=int(input('n'))\n",
        "for i in range(1,n+1):\n",
        "  for j in range (1,i+1):\n",
        "    print('*', end=' ')\n",
        "  print( )"
      ],
      "metadata": {
        "colab": {
          "base_uri": "https://localhost:8080/"
        },
        "id": "5lzsDWaUcTxF",
        "outputId": "14ca18e1-47ab-4312-9377-5afa78d7555d"
      },
      "execution_count": null,
      "outputs": [
        {
          "output_type": "stream",
          "name": "stdout",
          "text": [
            "n5\n",
            "* \n",
            "* * \n",
            "* * * \n",
            "* * * * \n",
            "* * * * * \n"
          ]
        }
      ]
    },
    {
      "cell_type": "markdown",
      "source": [
        "2."
      ],
      "metadata": {
        "id": "aXjHJnGwjH8X"
      }
    },
    {
      "cell_type": "code",
      "source": [
        "n=int(input('n'))\n",
        "for i in range(1,n+1):\n",
        "  for j in range (1,i+1):\n",
        "    print(j,end='')\n",
        "  for k in range (i-1,0,-1):\n",
        "      print(k,end='')\n",
        "  print( )"
      ],
      "metadata": {
        "colab": {
          "base_uri": "https://localhost:8080/"
        },
        "id": "uZCDBSYKjKfw",
        "outputId": "6d48f29c-260f-473c-971d-4d29294d18e5"
      },
      "execution_count": 11,
      "outputs": [
        {
          "output_type": "stream",
          "name": "stdout",
          "text": [
            "n5\n",
            "1\n",
            "121\n",
            "12321\n",
            "1234321\n",
            "123454321\n"
          ]
        }
      ]
    },
    {
      "cell_type": "markdown",
      "source": [
        "##string"
      ],
      "metadata": {
        "id": "Jo9WkVTxBBqW"
      }
    },
    {
      "cell_type": "markdown",
      "source": [
        "#Creating string"
      ],
      "metadata": {
        "id": "CRnkqm7ffEeD"
      }
    },
    {
      "cell_type": "code",
      "source": [
        "s='Hello'\n",
        "s=\"hello\"\n",
        "#double inverted comma helps in putting the single inverted comma in the string , without giving error\n",
        "s='''hello'''\n",
        "#triple inverted comma used for multi line string\n",
        "s=\"\"\"hello\"\"\"\n",
        "s=str('hello')\n",
        "#type conversion string\n",
        "print (s)\n"
      ],
      "metadata": {
        "colab": {
          "base_uri": "https://localhost:8080/"
        },
        "id": "3vDB6JzXfHIs",
        "outputId": "183bcd06-1b22-47ec-bc4e-22c31e578656"
      },
      "execution_count": 5,
      "outputs": [
        {
          "output_type": "stream",
          "name": "stdout",
          "text": [
            "hello\n"
          ]
        }
      ]
    },
    {
      "cell_type": "markdown",
      "source": [
        "#acessing substrings from strings"
      ],
      "metadata": {
        "id": "uOl0pincgkq7"
      }
    },
    {
      "cell_type": "code",
      "source": [
        "#positive indexing : assign 0 to +ve numbers\n",
        "s=\"hello\"\n",
        "print(s[4])\n",
        "#print(s[7]) gives error as there are no index greater than 4"
      ],
      "metadata": {
        "colab": {
          "base_uri": "https://localhost:8080/"
        },
        "id": "Rv3eD_iSg8cm",
        "outputId": "6f2e28ec-92e6-4052-8e3f-a527fcef2215"
      },
      "execution_count": 7,
      "outputs": [
        {
          "output_type": "stream",
          "name": "stdout",
          "text": [
            "o\n"
          ]
        }
      ]
    },
    {
      "cell_type": "code",
      "source": [
        "#negative indexing :\n",
        "s=\"hello\"\n",
        "print(s[-2])\n",
        "#assign first character as zero index and then reverse as negative"
      ],
      "metadata": {
        "id": "mixMZ4r7iLxM"
      },
      "execution_count": null,
      "outputs": []
    },
    {
      "cell_type": "code",
      "source": [
        "#slicing :used to print desired number of strings index at once\n",
        "s=\"hello\"\n",
        "print(s[0:3])\n",
        "print(s[0:])\n",
        "\n",
        "print(s[:3]) #automatic assign first vacant as zero and last vacant  as end\n",
        "#[1:3]gives 3 is excluded and 1 is includeed\n",
        "\n",
        "print(s[0:3:2])\n",
        "#for jumping from indexs start :end:kitne ka jump\n",
        "\n",
        "#print(s[0:3:-2]) gives error as in negative index jump first index>second index"
      ],
      "metadata": {
        "colab": {
          "base_uri": "https://localhost:8080/"
        },
        "id": "NpPPkW1Qj9QO",
        "outputId": "1fdf7562-3568-426a-9845-75835ad3c42b"
      },
      "execution_count": 14,
      "outputs": [
        {
          "output_type": "stream",
          "name": "stdout",
          "text": [
            "hel\n",
            "hello\n",
            "hel\n",
            "hl\n"
          ]
        }
      ]
    },
    {
      "cell_type": "code",
      "source": [
        "print(s[-1:-6:-1])\n",
        "#reversing with -ve indexing"
      ],
      "metadata": {
        "colab": {
          "base_uri": "https://localhost:8080/"
        },
        "id": "J8ZJdeDFmbvv",
        "outputId": "06f687e4-ac5a-4615-e2a9-cbdc7095ffcd"
      },
      "execution_count": 16,
      "outputs": [
        {
          "output_type": "stream",
          "name": "stdout",
          "text": [
            "olleh\n"
          ]
        }
      ]
    },
    {
      "cell_type": "markdown",
      "source": [
        "#editing string"
      ],
      "metadata": {
        "id": "8W5eQLApnfGu"
      }
    },
    {
      "cell_type": "code",
      "source": [
        "s='hello'\n",
        "s[0]= 'H'\n",
        "print(s)\n",
        "#pythong is unchangeable stringers"
      ],
      "metadata": {
        "colab": {
          "base_uri": "https://localhost:8080/",
          "height": 176
        },
        "id": "MHL0r83zmv2S",
        "outputId": "11b9f50f-d320-4689-bbff-9fef2fc8481f"
      },
      "execution_count": 17,
      "outputs": [
        {
          "output_type": "error",
          "ename": "TypeError",
          "evalue": "'str' object does not support item assignment",
          "traceback": [
            "\u001b[0;31m---------------------------------------------------------------------------\u001b[0m",
            "\u001b[0;31mTypeError\u001b[0m                                 Traceback (most recent call last)",
            "\u001b[0;32m/tmp/ipython-input-17-3607219803.py\u001b[0m in \u001b[0;36m<cell line: 0>\u001b[0;34m()\u001b[0m\n\u001b[1;32m      1\u001b[0m \u001b[0ms\u001b[0m\u001b[0;34m=\u001b[0m\u001b[0;34m'hello'\u001b[0m\u001b[0;34m\u001b[0m\u001b[0;34m\u001b[0m\u001b[0m\n\u001b[0;32m----> 2\u001b[0;31m \u001b[0ms\u001b[0m\u001b[0;34m[\u001b[0m\u001b[0;36m0\u001b[0m\u001b[0;34m]\u001b[0m\u001b[0;34m=\u001b[0m \u001b[0;34m'H'\u001b[0m\u001b[0;34m\u001b[0m\u001b[0;34m\u001b[0m\u001b[0m\n\u001b[0m\u001b[1;32m      3\u001b[0m \u001b[0mprint\u001b[0m\u001b[0;34m(\u001b[0m\u001b[0ms\u001b[0m\u001b[0;34m)\u001b[0m\u001b[0;34m\u001b[0m\u001b[0;34m\u001b[0m\u001b[0m\n",
            "\u001b[0;31mTypeError\u001b[0m: 'str' object does not support item assignment"
          ]
        }
      ]
    },
    {
      "cell_type": "markdown",
      "source": [
        "#deleting a string"
      ],
      "metadata": {
        "id": "chIJ80dgn2L5"
      }
    },
    {
      "cell_type": "code",
      "source": [
        "s='hello'\n",
        "del s\n",
        "#used to delete the string :del\n",
        "print(s)"
      ],
      "metadata": {
        "colab": {
          "base_uri": "https://localhost:8080/",
          "height": 176
        },
        "id": "mhx2bIKMnyGJ",
        "outputId": "bf1f8c74-f736-403e-abd7-d159df5638c1"
      },
      "execution_count": 19,
      "outputs": [
        {
          "output_type": "error",
          "ename": "NameError",
          "evalue": "name 's' is not defined",
          "traceback": [
            "\u001b[0;31m---------------------------------------------------------------------------\u001b[0m",
            "\u001b[0;31mNameError\u001b[0m                                 Traceback (most recent call last)",
            "\u001b[0;32m/tmp/ipython-input-19-460810923.py\u001b[0m in \u001b[0;36m<cell line: 0>\u001b[0;34m()\u001b[0m\n\u001b[1;32m      2\u001b[0m \u001b[0;32mdel\u001b[0m \u001b[0ms\u001b[0m\u001b[0;34m\u001b[0m\u001b[0;34m\u001b[0m\u001b[0m\n\u001b[1;32m      3\u001b[0m \u001b[0;31m#used to delete the string :del\u001b[0m\u001b[0;34m\u001b[0m\u001b[0;34m\u001b[0m\u001b[0m\n\u001b[0;32m----> 4\u001b[0;31m \u001b[0mprint\u001b[0m\u001b[0;34m(\u001b[0m\u001b[0ms\u001b[0m\u001b[0;34m)\u001b[0m\u001b[0;34m\u001b[0m\u001b[0;34m\u001b[0m\u001b[0m\n\u001b[0m",
            "\u001b[0;31mNameError\u001b[0m: name 's' is not defined"
          ]
        }
      ]
    },
    {
      "cell_type": "code",
      "source": [
        "s='hello'\n",
        "del s[0:5]\n",
        "#python are immutable hence changes to strings cant be possible , you can only delete it the wholw string\n",
        "print(s)"
      ],
      "metadata": {
        "colab": {
          "base_uri": "https://localhost:8080/",
          "height": 193
        },
        "id": "tZtt9gCvorVZ",
        "outputId": "837fd499-7f3e-4129-8680-57fad22a9e0f"
      },
      "execution_count": 20,
      "outputs": [
        {
          "output_type": "error",
          "ename": "TypeError",
          "evalue": "'str' object does not support item deletion",
          "traceback": [
            "\u001b[0;31m---------------------------------------------------------------------------\u001b[0m",
            "\u001b[0;31mTypeError\u001b[0m                                 Traceback (most recent call last)",
            "\u001b[0;32m/tmp/ipython-input-20-2538951060.py\u001b[0m in \u001b[0;36m<cell line: 0>\u001b[0;34m()\u001b[0m\n\u001b[1;32m      1\u001b[0m \u001b[0ms\u001b[0m\u001b[0;34m=\u001b[0m\u001b[0;34m'hello'\u001b[0m\u001b[0;34m\u001b[0m\u001b[0;34m\u001b[0m\u001b[0m\n\u001b[0;32m----> 2\u001b[0;31m \u001b[0;32mdel\u001b[0m \u001b[0ms\u001b[0m\u001b[0;34m[\u001b[0m\u001b[0;36m0\u001b[0m\u001b[0;34m:\u001b[0m\u001b[0;36m5\u001b[0m\u001b[0;34m]\u001b[0m\u001b[0;34m\u001b[0m\u001b[0;34m\u001b[0m\u001b[0m\n\u001b[0m\u001b[1;32m      3\u001b[0m \u001b[0;31m#used to delete the string :del\u001b[0m\u001b[0;34m\u001b[0m\u001b[0;34m\u001b[0m\u001b[0m\n\u001b[1;32m      4\u001b[0m \u001b[0mprint\u001b[0m\u001b[0;34m(\u001b[0m\u001b[0ms\u001b[0m\u001b[0;34m)\u001b[0m\u001b[0;34m\u001b[0m\u001b[0;34m\u001b[0m\u001b[0m\n",
            "\u001b[0;31mTypeError\u001b[0m: 'str' object does not support item deletion"
          ]
        }
      ]
    },
    {
      "cell_type": "markdown",
      "source": [
        "# # operation on stringd"
      ],
      "metadata": {
        "id": "AxbHna8jpxG-"
      }
    },
    {
      "cell_type": "code",
      "source": [
        "#arithmetic\n",
        "print('a'+'b')\n",
        "print('a'*3)\n",
        "#only these 2 in arithmetic"
      ],
      "metadata": {
        "colab": {
          "base_uri": "https://localhost:8080/"
        },
        "id": "pNk_e7Ujp25Q",
        "outputId": "1385f1ef-aa03-4d2a-ce7b-3eea1138ec8b"
      },
      "execution_count": 22,
      "outputs": [
        {
          "output_type": "stream",
          "name": "stdout",
          "text": [
            "ab\n",
            "aaa\n"
          ]
        }
      ]
    },
    {
      "cell_type": "code",
      "source": [
        "#relational\n",
        "'delhi'!= 'Delhi'\n",
        "'mumbai'>'pune'\n",
        "#ASCII code is compared (lexographically)"
      ],
      "metadata": {
        "colab": {
          "base_uri": "https://localhost:8080/"
        },
        "id": "YL48NOZXp-sI",
        "outputId": "76d27c4c-6d86-4a8b-9dc0-aba8b42beb47"
      },
      "execution_count": 24,
      "outputs": [
        {
          "output_type": "execute_result",
          "data": {
            "text/plain": [
              "False"
            ]
          },
          "metadata": {},
          "execution_count": 24
        }
      ]
    },
    {
      "cell_type": "markdown",
      "source": [
        "#logical"
      ],
      "metadata": {
        "id": "f4Od63YYtFQB"
      }
    },
    {
      "cell_type": "code",
      "source": [
        "#LOGICAL\n",
        "#python takes empty strings strings as false and filled strings as true\n",
        "'' and 'hel'"
      ],
      "metadata": {
        "colab": {
          "base_uri": "https://localhost:8080/",
          "height": 35
        },
        "id": "nBNRZvuHsGlc",
        "outputId": "d2787c44-bf20-43af-fcd7-653304de51e6"
      },
      "execution_count": 30,
      "outputs": [
        {
          "output_type": "execute_result",
          "data": {
            "text/plain": [
              "''"
            ],
            "application/vnd.google.colaboratory.intrinsic+json": {
              "type": "string"
            }
          },
          "metadata": {},
          "execution_count": 30
        }
      ]
    },
    {
      "cell_type": "code",
      "source": [
        "' ' and 'hel'\n",
        "#first string has space"
      ],
      "metadata": {
        "colab": {
          "base_uri": "https://localhost:8080/",
          "height": 35
        },
        "id": "Y4fK7zvMswcf",
        "outputId": "089ba44a-ac03-4a08-f2bf-648d5af19faf"
      },
      "execution_count": 31,
      "outputs": [
        {
          "output_type": "execute_result",
          "data": {
            "text/plain": [
              "'hel'"
            ],
            "application/vnd.google.colaboratory.intrinsic+json": {
              "type": "string"
            }
          },
          "metadata": {},
          "execution_count": 31
        }
      ]
    },
    {
      "cell_type": "code",
      "source": [
        "\"\" or 'hel'"
      ],
      "metadata": {
        "colab": {
          "base_uri": "https://localhost:8080/",
          "height": 35
        },
        "id": "w3isSN2Wsez5",
        "outputId": "6e7f9f68-1a61-4eed-89c6-5498463c187a"
      },
      "execution_count": 29,
      "outputs": [
        {
          "output_type": "execute_result",
          "data": {
            "text/plain": [
              "'hel'"
            ],
            "application/vnd.google.colaboratory.intrinsic+json": {
              "type": "string"
            }
          },
          "metadata": {},
          "execution_count": 29
        }
      ]
    },
    {
      "cell_type": "code",
      "source": [
        "\" \" or 'hel'\n",
        "#first string has space"
      ],
      "metadata": {
        "colab": {
          "base_uri": "https://localhost:8080/",
          "height": 35
        },
        "id": "he9AFT44s4IB",
        "outputId": "fa419fce-f384-4d7f-d82d-9692399ea86b"
      },
      "execution_count": 32,
      "outputs": [
        {
          "output_type": "execute_result",
          "data": {
            "text/plain": [
              "' '"
            ],
            "application/vnd.google.colaboratory.intrinsic+json": {
              "type": "string"
            }
          },
          "metadata": {},
          "execution_count": 32
        }
      ]
    },
    {
      "cell_type": "code",
      "source": [
        "'hel' and ' world'\n",
        "# and ke case me python ko dusre string ke paas jaana pd rha hai kyuki\n",
        "#pehle waala true hai to result dusre waale string pr depend krega\n",
        "# isliye second string print ho rha"
      ],
      "metadata": {
        "colab": {
          "base_uri": "https://localhost:8080/",
          "height": 35
        },
        "id": "_DYR3vs8tIDB",
        "outputId": "89b73119-7f12-4420-824a-ee1af07962cf"
      },
      "execution_count": 33,
      "outputs": [
        {
          "output_type": "execute_result",
          "data": {
            "text/plain": [
              "' world'"
            ],
            "application/vnd.google.colaboratory.intrinsic+json": {
              "type": "string"
            }
          },
          "metadata": {},
          "execution_count": 33
        }
      ]
    },
    {
      "cell_type": "code",
      "source": [
        "'hel' or ' world'\n",
        "#pehla string true hai to \"or \" me 1 or 0 ya 1 or 1 1 hota hai isliye\n",
        "#aage check krne ke jrrurt hi nhi isliye first string result bn gyi"
      ],
      "metadata": {
        "colab": {
          "base_uri": "https://localhost:8080/",
          "height": 35
        },
        "id": "52tpAJSOtjTh",
        "outputId": "491e3911-ade5-4bc8-c27e-e261922485ba"
      },
      "execution_count": 34,
      "outputs": [
        {
          "output_type": "execute_result",
          "data": {
            "text/plain": [
              "'hel'"
            ],
            "application/vnd.google.colaboratory.intrinsic+json": {
              "type": "string"
            }
          },
          "metadata": {},
          "execution_count": 34
        }
      ]
    },
    {
      "cell_type": "code",
      "source": [
        "not'' #emptyy is false so"
      ],
      "metadata": {
        "colab": {
          "base_uri": "https://localhost:8080/"
        },
        "id": "QjuoFtlPuCIl",
        "outputId": "eef20686-7bcd-4954-91c2-9b90bda800d5"
      },
      "execution_count": 35,
      "outputs": [
        {
          "output_type": "execute_result",
          "data": {
            "text/plain": [
              "True"
            ]
          },
          "metadata": {},
          "execution_count": 35
        }
      ]
    },
    {
      "cell_type": "code",
      "source": [
        "not'hello'"
      ],
      "metadata": {
        "colab": {
          "base_uri": "https://localhost:8080/"
        },
        "id": "xQ8-eh-0uEfc",
        "outputId": "7af4773f-09d8-4741-fc30-d09a99c5acef"
      },
      "execution_count": 36,
      "outputs": [
        {
          "output_type": "execute_result",
          "data": {
            "text/plain": [
              "False"
            ]
          },
          "metadata": {},
          "execution_count": 36
        }
      ]
    },
    {
      "cell_type": "markdown",
      "source": [
        "#loops on string"
      ],
      "metadata": {
        "id": "l0-dSep4upWC"
      }
    },
    {
      "cell_type": "code",
      "source": [
        "for i in range (3):\n",
        "  print ('hel')"
      ],
      "metadata": {
        "colab": {
          "base_uri": "https://localhost:8080/"
        },
        "id": "uhWorxhguuL9",
        "outputId": "67d79ee1-f2e9-41e0-d9a5-484feebaacaf"
      },
      "execution_count": 39,
      "outputs": [
        {
          "output_type": "stream",
          "name": "stdout",
          "text": [
            "hel\n",
            "hel\n",
            "hel\n"
          ]
        }
      ]
    },
    {
      "cell_type": "code",
      "source": [
        "for i in 'delhi':\n",
        "  print('pune')\n",
        "  #delhi has 5 char"
      ],
      "metadata": {
        "colab": {
          "base_uri": "https://localhost:8080/"
        },
        "id": "fR0PTbc9vBH5",
        "outputId": "797e1f37-4878-4530-8cbf-2134945c98fb"
      },
      "execution_count": 40,
      "outputs": [
        {
          "output_type": "stream",
          "name": "stdout",
          "text": [
            "pune\n",
            "pune\n",
            "pune\n",
            "pune\n",
            "pune\n"
          ]
        }
      ]
    },
    {
      "cell_type": "code",
      "source": [
        "#MEMBERSHIP\n",
        "#checking if har present in string\n",
        "'d' in 'delhi'"
      ],
      "metadata": {
        "colab": {
          "base_uri": "https://localhost:8080/"
        },
        "id": "gkUCnEdpvV4Y",
        "outputId": "06f6aab7-2a07-49ce-fd99-66cfbcb85dc6"
      },
      "execution_count": 43,
      "outputs": [
        {
          "output_type": "execute_result",
          "data": {
            "text/plain": [
              "True"
            ]
          },
          "metadata": {},
          "execution_count": 43
        }
      ]
    },
    {
      "cell_type": "markdown",
      "source": [],
      "metadata": {
        "id": "36OjxA1ivvcG"
      }
    }
  ]
}