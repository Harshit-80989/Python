{
  "nbformat": 4,
  "nbformat_minor": 0,
  "metadata": {
    "colab": {
      "provenance": []
    },
    "kernelspec": {
      "name": "python3",
      "display_name": "Python 3"
    },
    "language_info": {
      "name": "python"
    }
  },
  "cells": [
    {
      "cell_type": "markdown",
      "source": [
        "#creating tuple"
      ],
      "metadata": {
        "id": "keFZpnt7U4kr"
      }
    },
    {
      "cell_type": "code",
      "execution_count": null,
      "metadata": {
        "colab": {
          "base_uri": "https://localhost:8080/"
        },
        "id": "fj28lDTTUPuI",
        "outputId": "e2ab71b0-021a-4c79-ff31-e6d9b76ad459"
      },
      "outputs": [
        {
          "output_type": "stream",
          "name": "stdout",
          "text": [
            "()\n"
          ]
        }
      ],
      "source": [
        "#empty tuple\n",
        "t1=()\n",
        "print(t1)"
      ]
    },
    {
      "cell_type": "code",
      "source": [
        "#creating tuple with single item\n",
        "t1=(3)\n",
        "print(t1)\n",
        "type(t1) #int\n",
        "#so for creating single item tuple use\n",
        "t1=(3,)\n",
        "print(t1)\n",
        "type(t1)"
      ],
      "metadata": {
        "colab": {
          "base_uri": "https://localhost:8080/"
        },
        "id": "iD6Cs8rCVyi6",
        "outputId": "36233310-60df-4462-8121-5118a2e4bf07"
      },
      "execution_count": null,
      "outputs": [
        {
          "output_type": "stream",
          "name": "stdout",
          "text": [
            "3\n",
            "(3,)\n"
          ]
        },
        {
          "output_type": "execute_result",
          "data": {
            "text/plain": [
              "tuple"
            ]
          },
          "metadata": {},
          "execution_count": 4
        }
      ]
    },
    {
      "cell_type": "code",
      "source": [
        "#homo\n",
        "t1=(3,4,5,4,3)\n",
        "print(t1)"
      ],
      "metadata": {
        "colab": {
          "base_uri": "https://localhost:8080/"
        },
        "id": "I0m2ATSGWRf1",
        "outputId": "70f1ee9f-5f48-42f9-80ed-13bb0124a338"
      },
      "execution_count": null,
      "outputs": [
        {
          "output_type": "stream",
          "name": "stdout",
          "text": [
            "(3, 4, 5, 4, 3)\n"
          ]
        }
      ]
    },
    {
      "cell_type": "code",
      "source": [
        "#hetero\n",
        "t1=(3,4,5,'a',3,[1,2])\n",
        "print(t1)"
      ],
      "metadata": {
        "colab": {
          "base_uri": "https://localhost:8080/"
        },
        "id": "4C37fJZKWbNe",
        "outputId": "d742679d-bd1e-4d43-ae7f-2d768d083db2"
      },
      "execution_count": null,
      "outputs": [
        {
          "output_type": "stream",
          "name": "stdout",
          "text": [
            "(3, 4, 5, 'a', 3, [1, 2])\n"
          ]
        }
      ]
    },
    {
      "cell_type": "code",
      "source": [
        "#tuple\n",
        "t1=((3,4),5,4,3)\n",
        "print(t1)"
      ],
      "metadata": {
        "colab": {
          "base_uri": "https://localhost:8080/"
        },
        "id": "3Ri6sWAdWomZ",
        "outputId": "b2e24aa3-05c5-4a83-fd0f-185aab66a20d"
      },
      "execution_count": null,
      "outputs": [
        {
          "output_type": "stream",
          "name": "stdout",
          "text": [
            "((3, 4), 5, 4, 3)\n"
          ]
        }
      ]
    },
    {
      "cell_type": "markdown",
      "source": [
        "#accessing item"
      ],
      "metadata": {
        "id": "XxFgLYDqXVak"
      }
    },
    {
      "cell_type": "code",
      "source": [
        "#slicing\n",
        "t1=(3,4,5)\n",
        "print(t1[0:1])"
      ],
      "metadata": {
        "colab": {
          "base_uri": "https://localhost:8080/"
        },
        "id": "7Rn-ITb9XP48",
        "outputId": "f61863ae-9239-4fd2-fb2b-9ee31634b45d"
      },
      "execution_count": null,
      "outputs": [
        {
          "output_type": "stream",
          "name": "stdout",
          "text": [
            "(3,)\n"
          ]
        }
      ]
    },
    {
      "cell_type": "code",
      "source": [
        "#indexing\n",
        "t1=(3,4,5)\n",
        "print(t1[1])\n"
      ],
      "metadata": {
        "colab": {
          "base_uri": "https://localhost:8080/"
        },
        "id": "sRLYpoVRlpw9",
        "outputId": "ab325bf1-ff2a-4b60-c7f4-b3e035c8334c"
      },
      "execution_count": null,
      "outputs": [
        {
          "output_type": "stream",
          "name": "stdout",
          "text": [
            "4\n"
          ]
        }
      ]
    },
    {
      "cell_type": "markdown",
      "source": [
        "#editing tuples"
      ],
      "metadata": {
        "id": "Wo9IlzHLVHcI"
      }
    },
    {
      "cell_type": "code",
      "source": [
        "t1=(3,4,5)\n",
        "t1[1]=0\n",
        "print(t1)\n",
        "#tuples are immutable so values cant be changed similar to string"
      ],
      "metadata": {
        "colab": {
          "base_uri": "https://localhost:8080/",
          "height": 193
        },
        "id": "Z8t-GWHjVG7p",
        "outputId": "aa7beeed-03cf-40b6-b1c2-16378c4e2ac5"
      },
      "execution_count": null,
      "outputs": [
        {
          "output_type": "error",
          "ename": "TypeError",
          "evalue": "'tuple' object does not support item assignment",
          "traceback": [
            "\u001b[0;31m---------------------------------------------------------------------------\u001b[0m",
            "\u001b[0;31mTypeError\u001b[0m                                 Traceback (most recent call last)",
            "\u001b[0;32m/tmp/ipython-input-3-454656906.py\u001b[0m in \u001b[0;36m<cell line: 0>\u001b[0;34m()\u001b[0m\n\u001b[1;32m      1\u001b[0m \u001b[0mt1\u001b[0m\u001b[0;34m=\u001b[0m\u001b[0;34m(\u001b[0m\u001b[0;36m3\u001b[0m\u001b[0;34m,\u001b[0m\u001b[0;36m4\u001b[0m\u001b[0;34m,\u001b[0m\u001b[0;36m5\u001b[0m\u001b[0;34m)\u001b[0m\u001b[0;34m\u001b[0m\u001b[0;34m\u001b[0m\u001b[0m\n\u001b[0;32m----> 2\u001b[0;31m \u001b[0mt1\u001b[0m\u001b[0;34m[\u001b[0m\u001b[0;36m1\u001b[0m\u001b[0;34m]\u001b[0m\u001b[0;34m=\u001b[0m\u001b[0;36m0\u001b[0m\u001b[0;34m\u001b[0m\u001b[0;34m\u001b[0m\u001b[0m\n\u001b[0m\u001b[1;32m      3\u001b[0m \u001b[0mprint\u001b[0m\u001b[0;34m(\u001b[0m\u001b[0mt1\u001b[0m\u001b[0;34m)\u001b[0m\u001b[0;34m\u001b[0m\u001b[0;34m\u001b[0m\u001b[0m\n\u001b[1;32m      4\u001b[0m \u001b[0;31m#tuples are immutable so values cant be changed\u001b[0m\u001b[0;34m\u001b[0m\u001b[0;34m\u001b[0m\u001b[0m\n",
            "\u001b[0;31mTypeError\u001b[0m: 'tuple' object does not support item assignment"
          ]
        }
      ]
    },
    {
      "cell_type": "markdown",
      "source": [
        "#adding items"
      ],
      "metadata": {
        "id": "B9YfwsAmVdm3"
      }
    },
    {
      "cell_type": "code",
      "source": [
        "#not possible as immutable"
      ],
      "metadata": {
        "id": "SzOxP7TyVgrR"
      },
      "execution_count": null,
      "outputs": []
    },
    {
      "cell_type": "markdown",
      "source": [],
      "metadata": {
        "id": "2_7v-mivVven"
      }
    },
    {
      "cell_type": "markdown",
      "source": [
        "#deleting items"
      ],
      "metadata": {
        "id": "whIK0qroWBIP"
      }
    },
    {
      "cell_type": "code",
      "source": [
        "t1=(3,4,5)\n",
        "del t1\n",
        "print(t1)\n",
        "#deleting an tuple is possible but deleting an item from tuple is not possible"
      ],
      "metadata": {
        "colab": {
          "base_uri": "https://localhost:8080/",
          "height": 193
        },
        "id": "J0CzouUJWDm2",
        "outputId": "b29acb93-bc8d-49ba-a10c-ac62dd233e64"
      },
      "execution_count": null,
      "outputs": [
        {
          "output_type": "error",
          "ename": "NameError",
          "evalue": "name 't1' is not defined",
          "traceback": [
            "\u001b[0;31m---------------------------------------------------------------------------\u001b[0m",
            "\u001b[0;31mNameError\u001b[0m                                 Traceback (most recent call last)",
            "\u001b[0;32m/tmp/ipython-input-5-3267407600.py\u001b[0m in \u001b[0;36m<cell line: 0>\u001b[0;34m()\u001b[0m\n\u001b[1;32m      1\u001b[0m \u001b[0mt1\u001b[0m\u001b[0;34m=\u001b[0m\u001b[0;34m(\u001b[0m\u001b[0;36m3\u001b[0m\u001b[0;34m,\u001b[0m\u001b[0;36m4\u001b[0m\u001b[0;34m,\u001b[0m\u001b[0;36m5\u001b[0m\u001b[0;34m)\u001b[0m\u001b[0;34m\u001b[0m\u001b[0;34m\u001b[0m\u001b[0m\n\u001b[1;32m      2\u001b[0m \u001b[0;32mdel\u001b[0m \u001b[0mt1\u001b[0m\u001b[0;34m\u001b[0m\u001b[0;34m\u001b[0m\u001b[0m\n\u001b[0;32m----> 3\u001b[0;31m \u001b[0mprint\u001b[0m\u001b[0;34m(\u001b[0m\u001b[0mt1\u001b[0m\u001b[0;34m)\u001b[0m\u001b[0;34m\u001b[0m\u001b[0;34m\u001b[0m\u001b[0m\n\u001b[0m\u001b[1;32m      4\u001b[0m \u001b[0;31m#deleting an tuple is possible but deleting an item from tuple is not possible\u001b[0m\u001b[0;34m\u001b[0m\u001b[0;34m\u001b[0m\u001b[0m\n",
            "\u001b[0;31mNameError\u001b[0m: name 't1' is not defined"
          ]
        }
      ]
    },
    {
      "cell_type": "markdown",
      "source": [
        "#operations"
      ],
      "metadata": {
        "id": "ZO9ayzn9XOCK"
      }
    },
    {
      "cell_type": "code",
      "source": [
        "#+ and *\n",
        "t1=(1,2,3)\n",
        "t2=(2,3,4)\n",
        "t1+t2\n",
        "t1*2\n",
        "#memebership\n",
        "1 in t1\n",
        "# iteration ( loop)\n",
        "for i in t1:\n",
        "  print (t1)"
      ],
      "metadata": {
        "colab": {
          "base_uri": "https://localhost:8080/"
        },
        "id": "tHJoEgt2XNgg",
        "outputId": "db6f3411-1f90-4047-f4c7-78ccbe17f779"
      },
      "execution_count": null,
      "outputs": [
        {
          "output_type": "stream",
          "name": "stdout",
          "text": [
            "(1, 2, 3)\n",
            "(1, 2, 3)\n",
            "(1, 2, 3)\n"
          ]
        }
      ]
    },
    {
      "cell_type": "code",
      "source": [
        "# we can use imp time to calculate the time taken by program to run\n",
        "#use chatgpt to know more"
      ],
      "metadata": {
        "id": "ou7SI5n1a0Hm"
      },
      "execution_count": null,
      "outputs": []
    },
    {
      "cell_type": "code",
      "source": [
        "#similar we can mesaure space by using import sys"
      ],
      "metadata": {
        "id": "5fZa8imda0Dy"
      },
      "execution_count": null,
      "outputs": []
    },
    {
      "cell_type": "markdown",
      "source": [
        "#why create tuple when have list"
      ],
      "metadata": {
        "id": "EAdKhB_7bN4L"
      }
    },
    {
      "cell_type": "markdown",
      "source": [
        "bcz. tuple can store items which are immutable , that you cant edit ,depends of task what to use list or tuple based on mutabllity"
      ],
      "metadata": {
        "id": "uB6a-Sb_bTZR"
      }
    },
    {
      "cell_type": "markdown",
      "source": [
        "#special syntax"
      ],
      "metadata": {
        "id": "T3OKSGfFbmdC"
      }
    },
    {
      "cell_type": "code",
      "source": [
        "#tuple unpacking\n",
        "a,b,c=(1,2,3)\n",
        "print (a,b,c)\n",
        "#used to assign different tuples at at timne"
      ],
      "metadata": {
        "colab": {
          "base_uri": "https://localhost:8080/"
        },
        "id": "FwW7BoXOb1ON",
        "outputId": "aaf2cb58-ed0f-44eb-e495-7a4f9a840b81"
      },
      "execution_count": null,
      "outputs": [
        {
          "output_type": "stream",
          "name": "stdout",
          "text": [
            "1 2 3\n"
          ]
        }
      ]
    },
    {
      "cell_type": "code",
      "source": [
        "a,b=(1,2,3)\n",
        "print (a,b)\n",
        "#givees error as both side are not have similar no. of values"
      ],
      "metadata": {
        "colab": {
          "base_uri": "https://localhost:8080/",
          "height": 159
        },
        "id": "E5LeBpGQcCDz",
        "outputId": "817194a7-65f4-467f-fa80-52e16c174647"
      },
      "execution_count": null,
      "outputs": [
        {
          "output_type": "error",
          "ename": "ValueError",
          "evalue": "too many values to unpack (expected 2)",
          "traceback": [
            "\u001b[0;31m---------------------------------------------------------------------------\u001b[0m",
            "\u001b[0;31mValueError\u001b[0m                                Traceback (most recent call last)",
            "\u001b[0;32m/tmp/ipython-input-12-437495435.py\u001b[0m in \u001b[0;36m<cell line: 0>\u001b[0;34m()\u001b[0m\n\u001b[0;32m----> 1\u001b[0;31m \u001b[0ma\u001b[0m\u001b[0;34m,\u001b[0m\u001b[0mb\u001b[0m\u001b[0;34m=\u001b[0m\u001b[0;34m(\u001b[0m\u001b[0;36m1\u001b[0m\u001b[0;34m,\u001b[0m\u001b[0;36m2\u001b[0m\u001b[0;34m,\u001b[0m\u001b[0;36m3\u001b[0m\u001b[0;34m)\u001b[0m\u001b[0;34m\u001b[0m\u001b[0;34m\u001b[0m\u001b[0m\n\u001b[0m\u001b[1;32m      2\u001b[0m \u001b[0mprint\u001b[0m \u001b[0;34m(\u001b[0m\u001b[0ma\u001b[0m\u001b[0;34m,\u001b[0m\u001b[0mb\u001b[0m\u001b[0;34m)\u001b[0m\u001b[0;34m\u001b[0m\u001b[0;34m\u001b[0m\u001b[0m\n",
            "\u001b[0;31mValueError\u001b[0m: too many values to unpack (expected 2)"
          ]
        }
      ]
    },
    {
      "cell_type": "code",
      "source": [
        "a,b,*others= (1,2,3,4)\n",
        "print(a,b)\n",
        "print(others)\n",
        "#just for conveinace"
      ],
      "metadata": {
        "colab": {
          "base_uri": "https://localhost:8080/"
        },
        "id": "r0GAgyj3g5LI",
        "outputId": "54ff6aec-1cf0-441f-a1e2-637dbfde54a7"
      },
      "execution_count": null,
      "outputs": [
        {
          "output_type": "stream",
          "name": "stdout",
          "text": [
            "1 2\n",
            "[3, 4]\n"
          ]
        }
      ]
    },
    {
      "cell_type": "markdown",
      "source": [
        "#swap values"
      ],
      "metadata": {
        "id": "w1lUp4wPci4g"
      }
    },
    {
      "cell_type": "code",
      "source": [
        "a=1\n",
        "b=2\n",
        "a,b=b,a\n",
        "print(a,b)"
      ],
      "metadata": {
        "colab": {
          "base_uri": "https://localhost:8080/"
        },
        "id": "EUS1M5E-ck2S",
        "outputId": "ec01d061-b4d2-475a-eb9f-43795e9d1675"
      },
      "execution_count": null,
      "outputs": [
        {
          "output_type": "stream",
          "name": "stdout",
          "text": [
            "2 1\n"
          ]
        }
      ]
    },
    {
      "cell_type": "markdown",
      "source": [
        "#zipping tuple"
      ],
      "metadata": {
        "id": "P-8PTIZYi7fg"
      }
    },
    {
      "cell_type": "code",
      "source": [
        "a=(1,2,3)\n",
        "b=(4,5,6)\n",
        "zip(a,b)\n",
        "list(zip(a,b))\n",
        "#used to zip and get storage address and unzip by data type(zip(  )) to get output"
      ],
      "metadata": {
        "colab": {
          "base_uri": "https://localhost:8080/"
        },
        "id": "X-3cV68ki-XR",
        "outputId": "287f825c-a431-44a0-bc98-7bb16a36038c"
      },
      "execution_count": null,
      "outputs": [
        {
          "output_type": "execute_result",
          "data": {
            "text/plain": [
              "[(1, 4), (2, 5), (3, 6)]"
            ]
          },
          "metadata": {},
          "execution_count": 17
        }
      ]
    },
    {
      "cell_type": "markdown",
      "source": [
        "##sets"
      ],
      "metadata": {
        "id": "MCU4uO6Hjbv7"
      }
    },
    {
      "cell_type": "markdown",
      "source": [
        "#creating set"
      ],
      "metadata": {
        "id": "ijfA1-z2jeiF"
      }
    },
    {
      "cell_type": "code",
      "source": [
        "#empty set\n",
        "#s={} creates a dictionary data type\n",
        "s=set()\n",
        " # so using explicit cinversion\n",
        "print(s)"
      ],
      "metadata": {
        "colab": {
          "base_uri": "https://localhost:8080/"
        },
        "id": "5xYwj5CMl21K",
        "outputId": "e11715c8-99e3-4b6f-9b5f-3825884ec62f"
      },
      "execution_count": null,
      "outputs": [
        {
          "output_type": "stream",
          "name": "stdout",
          "text": [
            "set()\n"
          ]
        }
      ]
    },
    {
      "cell_type": "code",
      "source": [
        "#1D AND 2D SETS\n",
        "s={1,2,3}\n",
        "print(s)\n",
        "#2d sets not possible as sets cant contain mutable data type and sets are mutable"
      ],
      "metadata": {
        "colab": {
          "base_uri": "https://localhost:8080/"
        },
        "id": "-ram6_GCmNVJ",
        "outputId": "1134b72f-1fcf-4ef5-8257-e6a909c96842"
      },
      "execution_count": null,
      "outputs": [
        {
          "output_type": "stream",
          "name": "stdout",
          "text": [
            "{1, 2, 3}\n"
          ]
        }
      ]
    },
    {
      "cell_type": "code",
      "source": [
        "#hetero\n",
        "s1={1,2,3,True,(1,2)}\n",
        "print(s1)\n",
        "# true is not printed as 1 is also considered true and no duplicate is allowed so.\n",
        "#list are immtabel"
      ],
      "metadata": {
        "colab": {
          "base_uri": "https://localhost:8080/"
        },
        "id": "s4kOdxSqmNRA",
        "outputId": "33743756-d711-4607-c281-3b7182897a63"
      },
      "execution_count": null,
      "outputs": [
        {
          "output_type": "stream",
          "name": "stdout",
          "text": [
            "{3, 1, 2, (1, 2)}\n"
          ]
        }
      ]
    },
    {
      "cell_type": "markdown",
      "source": [
        "3accessing sets"
      ],
      "metadata": {
        "id": "NaS33sZcoO08"
      }
    },
    {
      "cell_type": "code",
      "source": [
        "#not allowed as sets are unrdered so you cant print by giving indexs or slicing"
      ],
      "metadata": {
        "id": "Lnizav5VoSY0"
      },
      "execution_count": null,
      "outputs": []
    },
    {
      "cell_type": "markdown",
      "source": [
        "editing items"
      ],
      "metadata": {
        "id": "ibdvCJJuop0r"
      }
    },
    {
      "cell_type": "code",
      "source": [
        "#cant be done as no fixed order so kaise pta chlega kyaa bdl rhe ho"
      ],
      "metadata": {
        "id": "e9JbOIlpotVQ"
      },
      "execution_count": null,
      "outputs": []
    },
    {
      "cell_type": "markdown",
      "source": [
        "adding items"
      ],
      "metadata": {
        "id": "SEkGr12co1kO"
      }
    },
    {
      "cell_type": "code",
      "source": [
        "# add____ used to add single item\n",
        "s1={1,2}\n",
        "s1.add(6)\n",
        "print(s1)"
      ],
      "metadata": {
        "colab": {
          "base_uri": "https://localhost:8080/"
        },
        "id": "zb_xMaylo3sK",
        "outputId": "eef9cdef-e1a1-4983-f548-5d6ba8284c8b"
      },
      "execution_count": null,
      "outputs": [
        {
          "output_type": "stream",
          "name": "stdout",
          "text": [
            "{1, 2, 6}\n"
          ]
        }
      ]
    },
    {
      "cell_type": "code",
      "source": [
        "#update ___ used to add multiple items\n",
        "s1={1,2}\n",
        "s1.update([4,5,6])\n",
        "print(s1)"
      ],
      "metadata": {
        "colab": {
          "base_uri": "https://localhost:8080/"
        },
        "id": "iFGXyYGSpV_E",
        "outputId": "8ce63376-76d4-436a-dd96-41102376745d"
      },
      "execution_count": null,
      "outputs": [
        {
          "output_type": "stream",
          "name": "stdout",
          "text": [
            "{1, 2, 4, 5, 6}\n"
          ]
        }
      ]
    },
    {
      "cell_type": "markdown",
      "source": [
        "deleting items"
      ],
      "metadata": {
        "id": "5n1UwEpUs3Vb"
      }
    },
    {
      "cell_type": "code",
      "source": [
        "#del\n",
        "#deletes entire set\n",
        "s1={1,2,3}\n",
        "print(s)\n",
        "del s\n",
        "print(s)"
      ],
      "metadata": {
        "colab": {
          "base_uri": "https://localhost:8080/",
          "height": 193
        },
        "id": "BxJ6vFaOpV7V",
        "outputId": "dce4d902-a549-4f91-dd40-d70fce5205de"
      },
      "execution_count": null,
      "outputs": [
        {
          "output_type": "stream",
          "name": "stdout",
          "text": [
            "{1, 2, 3}\n"
          ]
        },
        {
          "output_type": "error",
          "ename": "NameError",
          "evalue": "name 's' is not defined",
          "traceback": [
            "\u001b[0;31m---------------------------------------------------------------------------\u001b[0m",
            "\u001b[0;31mNameError\u001b[0m                                 Traceback (most recent call last)",
            "\u001b[0;32m/tmp/ipython-input-25-3588609998.py\u001b[0m in \u001b[0;36m<cell line: 0>\u001b[0;34m()\u001b[0m\n\u001b[1;32m      4\u001b[0m \u001b[0mprint\u001b[0m\u001b[0;34m(\u001b[0m\u001b[0ms\u001b[0m\u001b[0;34m)\u001b[0m\u001b[0;34m\u001b[0m\u001b[0;34m\u001b[0m\u001b[0m\n\u001b[1;32m      5\u001b[0m \u001b[0;32mdel\u001b[0m \u001b[0ms\u001b[0m\u001b[0;34m\u001b[0m\u001b[0;34m\u001b[0m\u001b[0m\n\u001b[0;32m----> 6\u001b[0;31m \u001b[0mprint\u001b[0m\u001b[0;34m(\u001b[0m\u001b[0ms\u001b[0m\u001b[0;34m)\u001b[0m\u001b[0;34m\u001b[0m\u001b[0;34m\u001b[0m\u001b[0m\n\u001b[0m",
            "\u001b[0;31mNameError\u001b[0m: name 's' is not defined"
          ]
        }
      ]
    },
    {
      "cell_type": "code",
      "source": [
        "# discard\n",
        "#ignore the number if present or not\n",
        "s1={1,2,3}\n",
        "s1.discard(3)\n",
        "print(s1)"
      ],
      "metadata": {
        "colab": {
          "base_uri": "https://localhost:8080/"
        },
        "id": "HPMgEG7ltJml",
        "outputId": "85efcb2f-61fd-4348-e8c9-07618a236370"
      },
      "execution_count": null,
      "outputs": [
        {
          "output_type": "stream",
          "name": "stdout",
          "text": [
            "{1, 2}\n"
          ]
        }
      ]
    },
    {
      "cell_type": "code",
      "source": [
        "#remove\n",
        "\n",
        "#ignore the number only if present otherwise gives error\n",
        "s1={1,2,3}\n",
        "s1.remove(2)\n",
        "print(s1)"
      ],
      "metadata": {
        "colab": {
          "base_uri": "https://localhost:8080/"
        },
        "id": "r8KTVcVgtbXp",
        "outputId": "779075d6-7b4f-498f-eb52-5467b3f8968a"
      },
      "execution_count": null,
      "outputs": [
        {
          "output_type": "stream",
          "name": "stdout",
          "text": [
            "{1, 3}\n"
          ]
        }
      ]
    },
    {
      "cell_type": "code",
      "source": [
        "#pop\n",
        "#used to remove random values\n",
        "s1={1,2,3}\n",
        "s1.pop()\n",
        "print(s1)"
      ],
      "metadata": {
        "colab": {
          "base_uri": "https://localhost:8080/"
        },
        "id": "b_fuvcA9ttue",
        "outputId": "dc513c5a-f5ae-4d1c-8179-781440d6c6a8"
      },
      "execution_count": null,
      "outputs": [
        {
          "output_type": "stream",
          "name": "stdout",
          "text": [
            "{2, 3}\n"
          ]
        }
      ]
    },
    {
      "cell_type": "code",
      "source": [
        "#clear\n",
        "#used to make the set clear i.e empty\n",
        "s1={1,2,3}\n",
        "s1.clear()\n",
        "print(s1)"
      ],
      "metadata": {
        "colab": {
          "base_uri": "https://localhost:8080/"
        },
        "id": "dJppyFZgt4Ay",
        "outputId": "a44ca90e-8b76-4a19-aed0-eb0198b79b5b"
      },
      "execution_count": null,
      "outputs": [
        {
          "output_type": "stream",
          "name": "stdout",
          "text": [
            "set()\n"
          ]
        }
      ]
    },
    {
      "cell_type": "markdown",
      "source": [
        "#operation"
      ],
      "metadata": {
        "id": "_JXDdd58wP7A"
      }
    },
    {
      "cell_type": "code",
      "source": [
        "s1={1,2,3,4}\n",
        "s2={5,6,7,8}\n",
        "\n",
        "#union (|)\n",
        "s1|s2\n",
        "\n",
        "#intersection (&)\n",
        "s1 & s2\n",
        "\n",
        "#difference(-)\n",
        "s1-s2\n",
        "s2-s1\n",
        "\n",
        "#symmetric diference (^)  __ gives uncommon elements from sets\n",
        "s1^s2\n",
        "\n",
        "#mwmwbership\n",
        "7 in s2\n",
        "\n",
        "#iteratrion\n",
        "for i in s1:\n",
        "  print (i)"
      ],
      "metadata": {
        "colab": {
          "base_uri": "https://localhost:8080/"
        },
        "id": "2UOZMpQ0wV3w",
        "outputId": "ee23b087-8d85-4f33-9dd1-f6ca6ebeab80"
      },
      "execution_count": null,
      "outputs": [
        {
          "output_type": "stream",
          "name": "stdout",
          "text": [
            "1\n",
            "2\n",
            "3\n",
            "4\n"
          ]
        }
      ]
    },
    {
      "cell_type": "markdown",
      "source": [
        "##frozen sets\n",
        " immutable version of sets\n"
      ],
      "metadata": {
        "id": "-VsSSyEj2Ld7"
      }
    },
    {
      "cell_type": "code",
      "source": [
        "#create frozenset\n",
        "f= frozenset([1,2])\n",
        "print(f)"
      ],
      "metadata": {
        "colab": {
          "base_uri": "https://localhost:8080/"
        },
        "id": "J8inWsGc2VkH",
        "outputId": "b1c679d6-0ef3-499d-8e01-720ab380b387"
      },
      "execution_count": null,
      "outputs": [
        {
          "output_type": "stream",
          "name": "stdout",
          "text": [
            "frozenset({1, 2})\n"
          ]
        }
      ]
    },
    {
      "cell_type": "markdown",
      "source": [
        "# what works ?\n",
        "all the read functions of set\n",
        " # what not?\n",
        " all editing functions"
      ],
      "metadata": {
        "id": "xs5ZFMdx3l36"
      }
    },
    {
      "cell_type": "markdown",
      "source": [
        "#when to use\n",
        "when want only to read the values"
      ],
      "metadata": {
        "id": "zZ88cyjc3yn3"
      }
    },
    {
      "cell_type": "markdown",
      "source": [
        "#2D frozen sets"
      ],
      "metadata": {
        "id": "HrVpmFtA38l2"
      }
    },
    {
      "cell_type": "code",
      "source": [
        "#possible because frozensets are immmutable and immutable are allowed for makeing 2D"
      ],
      "metadata": {
        "id": "qdODKBu54hVd"
      },
      "execution_count": null,
      "outputs": []
    },
    {
      "cell_type": "markdown",
      "source": [
        "#set comprehension"
      ],
      "metadata": {
        "id": "xCij08hh49sb"
      }
    },
    {
      "cell_type": "code",
      "source": [
        "{i for i in range (1,11)}"
      ],
      "metadata": {
        "colab": {
          "base_uri": "https://localhost:8080/"
        },
        "id": "FieFfUEd4yCI",
        "outputId": "22c58b1e-56bd-48e9-84d5-c39828fba2d0"
      },
      "execution_count": null,
      "outputs": [
        {
          "output_type": "execute_result",
          "data": {
            "text/plain": [
              "{1, 2, 3, 4, 5, 6, 7, 8, 9, 10}"
            ]
          },
          "metadata": {},
          "execution_count": 41
        }
      ]
    },
    {
      "cell_type": "markdown",
      "source": [
        "## DICTIONARY"
      ],
      "metadata": {
        "id": "Ny4fbTqS6QS8"
      }
    },
    {
      "cell_type": "markdown",
      "source": [
        "CREATING DICTIONARY"
      ],
      "metadata": {
        "id": "lbvYBY1r7Ny0"
      }
    },
    {
      "cell_type": "code",
      "source": [
        "#empty dictionary\n",
        "d={}\n",
        "d"
      ],
      "metadata": {
        "colab": {
          "base_uri": "https://localhost:8080/"
        },
        "id": "Z_daseYb6UdB",
        "outputId": "fd0ea9dc-3c2f-41c3-a6b2-319557a8875a"
      },
      "execution_count": 1,
      "outputs": [
        {
          "output_type": "execute_result",
          "data": {
            "text/plain": [
              "{}"
            ]
          },
          "metadata": {},
          "execution_count": 1
        }
      ]
    },
    {
      "cell_type": "code",
      "source": [
        "#1D dictionary\n",
        "d={'name':'harshit','college':'bbau'}\n",
        "d"
      ],
      "metadata": {
        "colab": {
          "base_uri": "https://localhost:8080/"
        },
        "id": "cDQxTt_n7dLq",
        "outputId": "831d0b7f-da7e-4270-fc48-2d7ffea14b63"
      },
      "execution_count": 2,
      "outputs": [
        {
          "output_type": "execute_result",
          "data": {
            "text/plain": [
              "{'name': 'harshit', 'college': 'bbau'}"
            ]
          },
          "metadata": {},
          "execution_count": 2
        }
      ]
    },
    {
      "cell_type": "code",
      "source": [
        "#with mixed keys\n",
        "d={'1':'harshit','(1,2,3)':'bbau'}\n",
        "d\n",
        "#list and sets cant be used as they are mutable"
      ],
      "metadata": {
        "colab": {
          "base_uri": "https://localhost:8080/"
        },
        "id": "QF0sLe_28KVy",
        "outputId": "c6eb4e77-2204-4c90-c24c-4dd647c86eef"
      },
      "execution_count": 3,
      "outputs": [
        {
          "output_type": "execute_result",
          "data": {
            "text/plain": [
              "{'1': 'harshit', '(1,2,3)': 'bbau'}"
            ]
          },
          "metadata": {},
          "execution_count": 3
        }
      ]
    },
    {
      "cell_type": "code",
      "source": [
        "#2D dictionary\n",
        "s={'name':'harshit',\n",
        "   'college':'bbau',\n",
        "   'sem':4,\n",
        "   'sub':{\n",
        "       'dsa':1 , 'maths':2,'mech':3\n",
        "   }\n",
        "   }\n",
        "s"
      ],
      "metadata": {
        "colab": {
          "base_uri": "https://localhost:8080/"
        },
        "id": "5K7Ztw058eKk",
        "outputId": "8bc2639c-3c2d-4171-d29c-09bafdeabb08"
      },
      "execution_count": 27,
      "outputs": [
        {
          "output_type": "execute_result",
          "data": {
            "text/plain": [
              "{'name': 'harshit',\n",
              " 'college': 'bbau',\n",
              " 'sem': 4,\n",
              " 'sub': {'dsa': 1, 'maths': 2, 'mech': 3}}"
            ]
          },
          "metadata": {},
          "execution_count": 27
        }
      ]
    },
    {
      "cell_type": "code",
      "source": [
        "#using dict type conversion\n",
        "d=dict([(1,2),(2,3)])\n",
        "d"
      ],
      "metadata": {
        "colab": {
          "base_uri": "https://localhost:8080/"
        },
        "id": "51wrbl749Z9w",
        "outputId": "b5cfa3bd-f9fc-4006-a645-8ea464680828"
      },
      "execution_count": 8,
      "outputs": [
        {
          "output_type": "execute_result",
          "data": {
            "text/plain": [
              "{1: 2, 2: 3}"
            ]
          },
          "metadata": {},
          "execution_count": 8
        }
      ]
    },
    {
      "cell_type": "code",
      "source": [
        "#duplicate keys not allowed\n",
        "d={'name':'harshit','name':'ram'}\n",
        "d"
      ],
      "metadata": {
        "colab": {
          "base_uri": "https://localhost:8080/"
        },
        "id": "ABmh0gTm9u_r",
        "outputId": "9104d38d-7a33-4a55-d5d6-d205ea9a4fd6"
      },
      "execution_count": 10,
      "outputs": [
        {
          "output_type": "execute_result",
          "data": {
            "text/plain": [
              "{'name': 'ram'}"
            ]
          },
          "metadata": {},
          "execution_count": 10
        }
      ]
    },
    {
      "cell_type": "code",
      "source": [
        "#no mutable keys are allowed\n",
        "d={'name':'harshit',[1,2,3]:3}\n",
        "d"
      ],
      "metadata": {
        "colab": {
          "base_uri": "https://localhost:8080/",
          "height": 176
        },
        "id": "xm5HDz3K-IjF",
        "outputId": "4e2fa251-b2d8-4c1b-b3a3-b28bc25ef49d"
      },
      "execution_count": 12,
      "outputs": [
        {
          "output_type": "error",
          "ename": "TypeError",
          "evalue": "unhashable type: 'list'",
          "traceback": [
            "\u001b[0;31m---------------------------------------------------------------------------\u001b[0m",
            "\u001b[0;31mTypeError\u001b[0m                                 Traceback (most recent call last)",
            "\u001b[0;32m/tmp/ipython-input-12-1504030948.py\u001b[0m in \u001b[0;36m<cell line: 0>\u001b[0;34m()\u001b[0m\n\u001b[1;32m      1\u001b[0m \u001b[0;31m#no mutable keys are allowed\u001b[0m\u001b[0;34m\u001b[0m\u001b[0;34m\u001b[0m\u001b[0m\n\u001b[0;32m----> 2\u001b[0;31m \u001b[0md\u001b[0m\u001b[0;34m=\u001b[0m\u001b[0;34m{\u001b[0m\u001b[0;34m'name'\u001b[0m\u001b[0;34m:\u001b[0m\u001b[0;34m'harshit'\u001b[0m\u001b[0;34m,\u001b[0m\u001b[0;34m[\u001b[0m\u001b[0;36m1\u001b[0m\u001b[0;34m,\u001b[0m\u001b[0;36m2\u001b[0m\u001b[0;34m,\u001b[0m\u001b[0;36m3\u001b[0m\u001b[0;34m]\u001b[0m\u001b[0;34m:\u001b[0m\u001b[0;36m3\u001b[0m\u001b[0;34m}\u001b[0m\u001b[0;34m\u001b[0m\u001b[0;34m\u001b[0m\u001b[0m\n\u001b[0m\u001b[1;32m      3\u001b[0m \u001b[0md\u001b[0m\u001b[0;34m\u001b[0m\u001b[0;34m\u001b[0m\u001b[0m\n",
            "\u001b[0;31mTypeError\u001b[0m: unhashable type: 'list'"
          ]
        }
      ]
    },
    {
      "cell_type": "markdown",
      "source": [
        "acessing items"
      ],
      "metadata": {
        "id": "oGwZEEr4_FNz"
      }
    },
    {
      "cell_type": "code",
      "source": [
        "#index\n",
        "d={'name':'harshit','college':'bbau'}\n",
        "# d[0]  gives error as indexing not support but\n",
        "d['name']  # usaing  key values to print inside items work\n",
        "\n",
        "#for 2d dict\n",
        "s['sub']['maths']\n",
        "\n",
        "#using get\n",
        "d.get('name') # use to get value by help of keys"
      ],
      "metadata": {
        "colab": {
          "base_uri": "https://localhost:8080/"
        },
        "id": "3qj1zPhd_HNL",
        "outputId": "5fc24ac8-f1ed-4c6c-8381-26689396773e"
      },
      "execution_count": 31,
      "outputs": [
        {
          "output_type": "execute_result",
          "data": {
            "text/plain": [
              "2"
            ]
          },
          "metadata": {},
          "execution_count": 31
        }
      ]
    },
    {
      "cell_type": "code",
      "source": [
        "# adding key value pair\n",
        "d['gender']='male'\n",
        "d\n",
        "\n",
        "#for 2d dict\n",
        "s['sub']['hin']=4\n",
        "s"
      ],
      "metadata": {
        "colab": {
          "base_uri": "https://localhost:8080/"
        },
        "id": "yE3FrWvPAXTI",
        "outputId": "14e3d64a-d5eb-4bc1-d903-88461bc1a511"
      },
      "execution_count": 32,
      "outputs": [
        {
          "output_type": "execute_result",
          "data": {
            "text/plain": [
              "{'name': 'harshit',\n",
              " 'college': 'bbau',\n",
              " 'sem': 4,\n",
              " 'sub': {'dsa': 1, 'maths': 2, 'mech': 3, 'hin': 4}}"
            ]
          },
          "metadata": {},
          "execution_count": 32
        }
      ]
    },
    {
      "cell_type": "markdown",
      "source": [
        "removing key item pair"
      ],
      "metadata": {
        "id": "QKBcefEfB7DL"
      }
    },
    {
      "cell_type": "code",
      "source": [
        "d={'name': 'harshit', 'college': 'bbau', 'gender': 'male'}\n",
        "\n",
        "#pop\n",
        "d.pop('gender')\n",
        "print(d)\n",
        "\n",
        "#popitem__ deletes last key value pair\n",
        "d.popitem()\n",
        "print(d)\n",
        "\n",
        "#del\n",
        "#del d\n",
        "#del s['sub']['maths']\n",
        "#print(d)\n",
        "\n",
        "# clear\n",
        "d.clear()\n",
        "print (d)"
      ],
      "metadata": {
        "colab": {
          "base_uri": "https://localhost:8080/"
        },
        "id": "cq2l2RNwB95s",
        "outputId": "b71874c9-4376-415b-cf77-755a6ce7f2cf"
      },
      "execution_count": 26,
      "outputs": [
        {
          "output_type": "stream",
          "name": "stdout",
          "text": [
            "{'name': 'harshit', 'college': 'bbau'}\n",
            "{'name': 'harshit'}\n",
            "{}\n"
          ]
        }
      ]
    },
    {
      "cell_type": "markdown",
      "source": [
        "editing items"
      ],
      "metadata": {
        "id": "LJPK8STVEObl"
      }
    },
    {
      "cell_type": "code",
      "source": [
        "s['college']= 'no iit'\n",
        "s"
      ],
      "metadata": {
        "colab": {
          "base_uri": "https://localhost:8080/"
        },
        "id": "hEsT8xqfER37",
        "outputId": "83a5c62a-0ca3-4d96-cb4e-0a21c3812ae6"
      },
      "execution_count": 33,
      "outputs": [
        {
          "output_type": "execute_result",
          "data": {
            "text/plain": [
              "{'name': 'harshit',\n",
              " 'college': 'no iit',\n",
              " 'sem': 4,\n",
              " 'sub': {'dsa': 1, 'maths': 2, 'mech': 3, 'hin': 4}}"
            ]
          },
          "metadata": {},
          "execution_count": 33
        }
      ]
    },
    {
      "cell_type": "markdown",
      "source": [
        "operations"
      ],
      "metadata": {
        "id": "v0WOGBG-Fek1"
      }
    },
    {
      "cell_type": "code",
      "source": [
        "#membership\n",
        "\n",
        "'name' in #----true as membership operates on key\n",
        "'harshit' in s # harshit not a key"
      ],
      "metadata": {
        "colab": {
          "base_uri": "https://localhost:8080/"
        },
        "id": "5x1VAbQcFhC9",
        "outputId": "051aebbe-0499-4538-921a-dfba3b15831c"
      },
      "execution_count": 35,
      "outputs": [
        {
          "output_type": "execute_result",
          "data": {
            "text/plain": [
              "False"
            ]
          },
          "metadata": {},
          "execution_count": 35
        }
      ]
    },
    {
      "cell_type": "code",
      "source": [
        "for i in d:\n",
        "  print(i,d[i])"
      ],
      "metadata": {
        "colab": {
          "base_uri": "https://localhost:8080/"
        },
        "id": "KbJo35spF1Wt",
        "outputId": "c774c6c0-fcbd-4ac3-8cbb-1ed6aec081d8"
      },
      "execution_count": 37,
      "outputs": [
        {
          "output_type": "stream",
          "name": "stdout",
          "text": [
            "name harshit\n",
            "college bbau\n",
            "gender male\n"
          ]
        }
      ]
    },
    {
      "cell_type": "markdown",
      "source": [
        "list comprehension"
      ],
      "metadata": {
        "id": "1X8a49FULBf_"
      }
    },
    {
      "cell_type": "code",
      "source": [
        "distances = {'delhi':1000,'mumbai':2000,'bangalore':3000}\n",
        "print(distances.items())"
      ],
      "metadata": {
        "colab": {
          "base_uri": "https://localhost:8080/"
        },
        "id": "yV8ln72ULDat",
        "outputId": "e0b8f837-fc6f-4782-a1fc-b4f28c92d4d4"
      },
      "execution_count": 38,
      "outputs": [
        {
          "output_type": "stream",
          "name": "stdout",
          "text": [
            "dict_items([('delhi', 1000), ('mumbai', 2000), ('bangalore', 3000)])\n"
          ]
        }
      ]
    },
    {
      "cell_type": "code",
      "source": [
        "#using existing dict\n",
        "distances = {'delhi':1000,'mumbai':2000,'bangalore':3000}\n",
        "{key:value*0.62 for (key,value) in distances.items()}\n",
        "#uses  key ,value and prints key, value*0.62"
      ],
      "metadata": {
        "colab": {
          "base_uri": "https://localhost:8080/"
        },
        "id": "5ymsAcYkLWN3",
        "outputId": "1c35eb5c-752a-4ada-e066-eed9ef573d05"
      },
      "execution_count": 39,
      "outputs": [
        {
          "output_type": "execute_result",
          "data": {
            "text/plain": [
              "{'delhi': 620.0, 'mumbai': 1240.0, 'bangalore': 1860.0}"
            ]
          },
          "metadata": {},
          "execution_count": 39
        }
      ]
    },
    {
      "cell_type": "code",
      "source": [
        "# using zip\n",
        "days = [\"Sunday\", \"Monday\",\"Tuesday\",\"Wednesday\",\"Thursday\",\"Friday\",\"Saturday\"]\n",
        "temp_C = [30.5,32.6,31.8,33.4,29.8,30.2,29.9]\n",
        "\n",
        "{i:j for (i,j) in zip(days,temp_C)}"
      ],
      "metadata": {
        "colab": {
          "base_uri": "https://localhost:8080/"
        },
        "id": "6ryDOiS3Lvz_",
        "outputId": "44bf6785-4a2a-4468-b590-4e76a6652b53"
      },
      "execution_count": 40,
      "outputs": [
        {
          "output_type": "execute_result",
          "data": {
            "text/plain": [
              "{'Sunday': 30.5,\n",
              " 'Monday': 32.6,\n",
              " 'Tuesday': 31.8,\n",
              " 'Wednesday': 33.4,\n",
              " 'Thursday': 29.8,\n",
              " 'Friday': 30.2,\n",
              " 'Saturday': 29.9}"
            ]
          },
          "metadata": {},
          "execution_count": 40
        }
      ]
    },
    {
      "cell_type": "code",
      "source": [
        "# using if condition\n",
        "products = {'phone':10,'laptop':0,'charger':32,'tablet':0}\n",
        "\n",
        "{key:value for (key,value) in products.items() if value>0}"
      ],
      "metadata": {
        "colab": {
          "base_uri": "https://localhost:8080/"
        },
        "id": "TXVosozTMEdm",
        "outputId": "9b198c2e-1f0a-4c7a-b022-e34554d6e862"
      },
      "execution_count": 41,
      "outputs": [
        {
          "output_type": "execute_result",
          "data": {
            "text/plain": [
              "{'phone': 10, 'charger': 32}"
            ]
          },
          "metadata": {},
          "execution_count": 41
        }
      ]
    },
    {
      "cell_type": "code",
      "source": [
        "# Nested Comprehension\n",
        "# print tables of number from 2 to 4\n",
        "{i:{j:i*j for j in range(1,11)} for i in range(2,5)}"
      ],
      "metadata": {
        "colab": {
          "base_uri": "https://localhost:8080/"
        },
        "id": "EOgacrwNNrPZ",
        "outputId": "2814f570-f842-45a5-b2fc-e33d29307ada"
      },
      "execution_count": 42,
      "outputs": [
        {
          "output_type": "execute_result",
          "data": {
            "text/plain": [
              "{2: {1: 2, 2: 4, 3: 6, 4: 8, 5: 10, 6: 12, 7: 14, 8: 16, 9: 18, 10: 20},\n",
              " 3: {1: 3, 2: 6, 3: 9, 4: 12, 5: 15, 6: 18, 7: 21, 8: 24, 9: 27, 10: 30},\n",
              " 4: {1: 4, 2: 8, 3: 12, 4: 16, 5: 20, 6: 24, 7: 28, 8: 32, 9: 36, 10: 40}}"
            ]
          },
          "metadata": {},
          "execution_count": 42
        }
      ]
    }
  ]
}